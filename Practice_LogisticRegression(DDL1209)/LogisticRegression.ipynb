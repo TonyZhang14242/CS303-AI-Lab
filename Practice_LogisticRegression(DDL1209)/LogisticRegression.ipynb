{
 "cells": [
  {
   "cell_type": "markdown",
   "metadata": {},
   "source": [
    "# Logistic Regression\n",
    "\n",
    "In this lab, you need to implement a logistic regression algorithm and test your model on a subset of the iris dataset."
   ]
  },
  {
   "cell_type": "markdown",
   "metadata": {},
   "source": [
    "### Part 1: Logistic regression algorithm\n",
    "\n",
    "The hypothsis function of logistic regression is:\n",
    "$$f(\\mathbf{x})=g(\\sum_{j=0}^{d}\\beta_j x_j),$$\n",
    "where $x_j(j>0)$ is the $j$-th dimension of input $\\mathbf{x}$, $\\beta_j$ is the weight of $x_j$, $x_0=1$, $\\beta_0$ is the intercept value, and $g(x)=\\frac{1}{1+e^{-x}}$ is the sigmoid function. The hypothsis function can also be written as:\n",
    "$$f(\\mathbf{x})=g(\\mathbf{\\beta}^T \\mathbf{x}).$$\n",
    "Remind that the first element in $\\mathbf{x}$ is 1 and the first element in $\\mathbf{\\beta}$ is the intercept value.\n",
    "\n",
    "<hr>\n",
    "  \n",
    "Given a train dataset $\\mathbb{D}_{train}=\\{(\\mathbf{x}_i, y_i)|i \\in [1,n], \\mathbf{x}_i \\in \\mathbb{R}^d, y_i \\in \\{0,1\\}\\}$. The cross-entropy loss function is:\n",
    "$$Loss=\\frac{1}{n}\\sum_{i=1}^{n}-y_ilog(f(\\mathbf{x}_i))-(1-y_i)log(1-f(\\mathbf{x}_i)).$$\n",
    "  \n",
    "Linear regression aims to minimize the loss function. The optimization process can be conducted by gradient descent algorithm. Given the learning rate $\\alpha$ and the number of iterations $n_{iters}$:\n",
    "1. Initialize the vector of $\\beta$ with $0$s.\n",
    "2. for _ in range($n_{iters}$):\n",
    "$$\\beta=\\beta-\\alpha*\\frac{\\partial Loss}{\\partial \\beta},$$\n",
    "where $\\frac{\\partial Loss}{\\partial \\beta}=\\frac{\\partial Loss}{\\partial f}*\\frac{\\partial f}{\\partial \\mathbf{\\beta}^T \\mathbf{x}}*\\frac{\\partial \\mathbf{\\beta}^T \\mathbf{x}}{\\partial \\mathbf{\\beta}}=\\frac{1}{n}\\sum_{i=1}^{n}(-\\frac{y_i}{f(\\mathbf{x}_i)}+\\frac{1-y_i}{1-f(\\mathbf{x}_i)})*(f(\\mathbf{x}_i)(1-f(\\mathbf{x}_i)))*\\mathbf{x}_i$(The deviation of matrix: <https://en.wikipedia.org/wiki/Matrix_calculus>)\n",
    "\n",
    "After training the model on the train dataset, we can then use this model to predict the labels for instances in the test dataset:\n",
    "$$\\hat{y}=\\left\\{\n",
    "\\begin{aligned}\n",
    "1, f(\\mathbf{x})\\geq\\frac{1}{2}\\\\\n",
    "0, f(\\mathbf{x})<\\frac{1}{2}\n",
    "\\end{aligned}\n",
    "\\right.$$\n",
    "\n",
    "<hr>\n",
    "\n",
    "**Tasks**\n",
    "\n",
    "* In this part, you need to implement the class `MyLogisticRegression` with 5 methods -- `__init__`, `fx`, `loss`, `fit`, and `predict` to perform above tasks."
   ]
  },
  {
   "cell_type": "code",
   "execution_count": 118,
   "metadata": {},
   "outputs": [],
   "source": [
    "import numpy as np\n",
    "\n",
    "class MyLogisticRegression:\n",
    "    def __init__(self):\n",
    "        \"\"\"\n",
    "        Class contructor.\n",
    "        \n",
    "        :attr beta: weights vector of logistic regression.\n",
    "        \"\"\"\n",
    "        self.beta = None\n",
    "\n",
    "    def fx(self, X):\n",
    "        \"\"\"\n",
    "        Calculate the value of f(x) given x.\n",
    "\n",
    "        :param X: numpy.ndarray with a shape of (n, d), input data.\n",
    "        :return:\n",
    "            fx_value: numpy.ndarray with a length of n, output of f(x).\n",
    "        \"\"\"\n",
    "        # TODO 1: complete the calculation process of f(x)\n",
    "        fx_value = 1.0/(1.0+ np.exp(-(X.dot(self.beta))))\n",
    "        \n",
    "        return fx_value\n",
    "\n",
    "    def loss(self, fx_value, y):\n",
    "        \"\"\"\n",
    "        Calculate the loss function given the calculated value f(x) and the true label y.\n",
    "\n",
    "        :param fx_value: numpy.ndarray with a length of n, \n",
    "                         a vector of hypothesis function values on these samples, which is the output of the function fx\n",
    "        :param y: numpy.ndarray with a length of n, \n",
    "                  a vector of the true labels of these samples\n",
    "        :return:\n",
    "            CELoss: a float value of the cross-entropy loss.\n",
    "        \"\"\"\n",
    "        # TODO 2: complete the loss function calculation\n",
    "        loss = - np.sum(y*np.log(fx_value) + (1-y)*np.log(1-fx_value)) / len(y)\n",
    "        \n",
    "        return loss\n",
    "\n",
    "    def fit(self, X, y, n_iters = 1000, alpha = 0.01):\n",
    "        \"\"\"\n",
    "        Train the model using gradient descent\n",
    "\n",
    "        :param X: numpy.ndarray with a shape of (n*d), input data.\n",
    "        :param y: numpy.ndarray with a length of n, the true labels of these samples\n",
    "        :param n_iters: int, number of iterations\n",
    "        :param alpha: float, learning rate\n",
    "        :return:\n",
    "            CELoss_list: list with a length of n_iters+1, \n",
    "                         contains the loss values before the gradient descent and after the gradient descent.\n",
    "        \"\"\"\n",
    "\n",
    "        n, d = X.shape\n",
    "        \n",
    "        self.beta = np.zeros(d+1)\n",
    "        #the first element in X_ is 1\n",
    "        X_ = np.column_stack([np.ones(n), X])\n",
    "        CELoss_list = [self.loss(self.fx(X_), y)]\n",
    "        \n",
    "        for i in range(n_iters):\n",
    "            # TODO 3: update self.beta\n",
    "            tmp = self.fx(X_)\n",
    "            tmp2 = X_.T.dot(tmp - y) / len(y)\n",
    "            self.beta = self.beta - alpha * tmp2\n",
    "            \n",
    "            CELoss_list.append(self.loss(self.fx(X_), y))\n",
    "        \n",
    "        return CELoss_list\n",
    "\n",
    "    def predict(self, X):\n",
    "        \"\"\"\n",
    "        Predict the labels of input instances.\n",
    "\n",
    "        :param X: numpy.ndarray with a shape of (n*d), input data.\n",
    "        :return:\n",
    "            y_hat: numpy.ndarray with a length of n, the predicted labels of these samples\n",
    "        \"\"\"\n",
    "        # TODO 4: predict the labels of the input data X and return the labels y_hat.\n",
    "        n, d = X.shape\n",
    "        X_ = np.column_stack([np.ones(n), X])\n",
    "        y_hat = self.fx(X_)\n",
    "        y_hat = np.array(y_hat >= 0.5, dtype='int')\n",
    "        #print(y_hat)\n",
    "        return y_hat"
   ]
  },
  {
   "cell_type": "code",
   "execution_count": 119,
   "outputs": [
    {
     "name": "stderr",
     "output_type": "stream",
     "text": [
      "'[iris' 不是内部或外部命令，也不是可运行的程序\n",
      "或批处理文件。\n",
      "'[iris' 不是内部或外部命令，也不是可运行的程序\n",
      "或批处理文件。\n"
     ]
    }
   ],
   "source": [
    "### Part 2: Load dataset\n",
    "#Here, we will use a popular machine learning dataset `Iris plants dataset`. Details of iris dataset can be found in <https://scikit-learn.org/stable/datasets/toy_dataset.html#iris-dataset>. For simplicity, we use the third and fourth attributes `petal length` and `petal width` to predict whether a iris plant is a `Iris-Setosa (class 0)` or a `Iris-Versicolor (class 1)`.\n",
    "![iris setosa](./setosa.png)\n",
    "![iris versicolor](./versicolor.png)"
   ],
   "metadata": {
    "collapsed": false
   }
  },
  {
   "cell_type": "code",
   "execution_count": 120,
   "metadata": {
    "scrolled": true
   },
   "outputs": [
    {
     "data": {
      "text/plain": "<Figure size 432x288 with 1 Axes>",
      "image/png": "[encoded data removed]"
     },
     "metadata": {
      "needs_background": "light"
     },
     "output_type": "display_data"
    }
   ],
   "source": [
    "import matplotlib.pyplot as plt\n",
    "import numpy as np\n",
    "from sklearn import datasets\n",
    "\n",
    "# load data\n",
    "iris = datasets.load_iris() \n",
    "X = iris.data[:, [2, 3]] \n",
    "y = iris.target\n",
    "y_mask = (y == 0) | (y == 1)\n",
    "X = X[y_mask]\n",
    "y = y[y_mask]\n",
    "\n",
    "# plot the data\n",
    "for idx, class_ in enumerate(np.unique(y)):       \n",
    "    plt.scatter(x=X[y == class_, 0], y=X[y == class_, 1],                   \n",
    "                alpha=0.8, label=\"class {}\".format(class_),                     \n",
    "                edgecolor='black')\n",
    "plt.legend()\n",
    "plt.show()"
   ]
  },
  {
   "cell_type": "markdown",
   "metadata": {},
   "source": [
    "### Part 3: Train dataset using your model\n",
    "In this part, you will use your logistic regression model to train a model and test whether it is good enough to handle the classification task of the iris dataset. Before all of these, we need to prepare the dataset first:\n",
    "* split the dataset into train and test part\n",
    "* standardize the data using the train dataset"
   ]
  },
  {
   "cell_type": "code",
   "execution_count": 121,
   "metadata": {},
   "outputs": [],
   "source": [
    "from sklearn.model_selection import train_test_split\n",
    "from sklearn.preprocessing import StandardScaler\n",
    "\n",
    "# split data into train and test datasets\n",
    "X_train, X_test, y_train, y_test = train_test_split( X, y, test_size=0.3, random_state=42, stratify=y) \n",
    "\n",
    "# standarize varibles by removing the mean and scaling to unit variance\n",
    "sc = StandardScaler()\n",
    "sc.fit(X_train)\n",
    "X_train_std = sc.transform(X_train) \n",
    "X_test_std = sc.transform(X_test)"
   ]
  },
  {
   "cell_type": "markdown",
   "metadata": {},
   "source": [
    "Train your model on the train dataset"
   ]
  },
  {
   "cell_type": "code",
   "execution_count": 122,
   "metadata": {},
   "outputs": [
    {
     "name": "stdout",
     "output_type": "stream",
     "text": [
      "Step 0: Cross-Entropy Loss: 0.6931471805599454\n",
      "Step 10: Cross-Entropy Loss: 0.6485572479853199\n",
      "Step 20: Cross-Entropy Loss: 0.6081631453613405\n",
      "Step 30: Cross-Entropy Loss: 0.5715437676920486\n",
      "Step 40: Cross-Entropy Loss: 0.5383094433839631\n",
      "Step 50: Cross-Entropy Loss: 0.5081041759297695\n",
      "Step 60: Cross-Entropy Loss: 0.48060594688101416\n",
      "Step 70: Cross-Entropy Loss: 0.45552567131948535\n",
      "Step 80: Cross-Entropy Loss: 0.4326052926730723\n",
      "Step 90: Cross-Entropy Loss: 0.411615391401665\n",
      "Step 100: Cross-Entropy Loss: 0.39235257934130435\n",
      "Step 110: Cross-Entropy Loss: 0.37463686614270036\n",
      "Step 120: Cross-Entropy Loss: 0.3583091179303625\n",
      "Step 130: Cross-Entropy Loss: 0.34322867941845814\n",
      "Step 140: Cross-Entropy Loss: 0.32927119626845697\n",
      "Step 150: Cross-Entropy Loss: 0.31632665123981785\n",
      "Step 160: Cross-Entropy Loss: 0.3042976127588806\n",
      "Step 170: Cross-Entropy Loss: 0.29309768552412463\n",
      "Step 180: Cross-Entropy Loss: 0.2826501478326526\n",
      "Step 190: Cross-Entropy Loss: 0.27288675808805307\n",
      "Step 200: Cross-Entropy Loss: 0.26374671245741976\n",
      "Step 210: Cross-Entropy Loss: 0.25517573620681694\n",
      "Step 220: Cross-Entropy Loss: 0.24712529240088216\n",
      "Step 230: Cross-Entropy Loss: 0.239551893101456\n",
      "Step 240: Cross-Entropy Loss: 0.23241649974959203\n",
      "Step 250: Cross-Entropy Loss: 0.22568400094727248\n",
      "Step 260: Cross-Entropy Loss: 0.2193227573019402\n",
      "Step 270: Cross-Entropy Loss: 0.21330420432352798\n",
      "Step 280: Cross-Entropy Loss: 0.2076025055558149\n",
      "Step 290: Cross-Entropy Loss: 0.2021942491802253\n",
      "Step 300: Cross-Entropy Loss: 0.19705818225660882\n",
      "Step 310: Cross-Entropy Loss: 0.19217497757208551\n",
      "Step 320: Cross-Entropy Loss: 0.18752702876744923\n",
      "Step 330: Cross-Entropy Loss: 0.1830982700130644\n",
      "Step 340: Cross-Entropy Loss: 0.1788740170244337\n",
      "Step 350: Cross-Entropy Loss: 0.17484082665260817\n",
      "Step 360: Cross-Entropy Loss: 0.17098637266626115\n",
      "Step 370: Cross-Entropy Loss: 0.16729933566938765\n",
      "Step 380: Cross-Entropy Loss: 0.16376930537893847\n",
      "Step 390: Cross-Entropy Loss: 0.16038669372700956\n",
      "Step 400: Cross-Entropy Loss: 0.15714265745827638\n",
      "Step 410: Cross-Entropy Loss: 0.15402902907020588\n",
      "Step 420: Cross-Entropy Loss: 0.15103825509545718\n",
      "Step 430: Cross-Entropy Loss: 0.14816334085646718\n",
      "Step 440: Cross-Entropy Loss: 0.14539780093460947\n",
      "Step 450: Cross-Entropy Loss: 0.1427356146931743\n",
      "Step 460: Cross-Entropy Loss: 0.14017118627700031\n",
      "Step 470: Cross-Entropy Loss: 0.13769930858380572\n",
      "Step 480: Cross-Entropy Loss: 0.1353151307647617\n",
      "Step 490: Cross-Entropy Loss: 0.13301412886600084\n",
      "Step 500: Cross-Entropy Loss: 0.13079207926974898\n",
      "Step 510: Cross-Entropy Loss: 0.12864503463461072\n",
      "Step 520: Cross-Entropy Loss: 0.12656930207008915\n",
      "Step 530: Cross-Entropy Loss: 0.12456142331140883\n",
      "Step 540: Cross-Entropy Loss: 0.12261815668776566\n",
      "Step 550: Cross-Entropy Loss: 0.12073646070077927\n",
      "Step 560: Cross-Entropy Loss: 0.11891347905063722\n",
      "Step 570: Cross-Entropy Loss: 0.11714652696558189\n",
      "Step 580: Cross-Entropy Loss: 0.1154330787063404\n",
      "Step 590: Cross-Entropy Loss: 0.1137707561311268\n",
      "Step 600: Cross-Entropy Loss: 0.11215731821920144\n",
      "Step 610: Cross-Entropy Loss: 0.11059065146186724\n",
      "Step 620: Cross-Entropy Loss: 0.10906876103940982\n",
      "Step 630: Cross-Entropy Loss: 0.10758976271099961\n",
      "Step 640: Cross-Entropy Loss: 0.10615187535211323\n",
      "Step 650: Cross-Entropy Loss: 0.10475341408071887\n",
      "Step 660: Cross-Entropy Loss: 0.10339278391940705\n",
      "Step 670: Cross-Entropy Loss: 0.1020684739459283\n",
      "Step 680: Cross-Entropy Loss: 0.1007790518893\n",
      "Step 690: Cross-Entropy Loss: 0.09952315913283592\n",
      "Step 700: Cross-Entropy Loss: 0.09829950608919043\n",
      "Step 710: Cross-Entropy Loss: 0.0971068679158543\n",
      "Step 720: Cross-Entropy Loss: 0.09594408054252931\n",
      "Step 730: Cross-Entropy Loss: 0.0948100369844863\n",
      "Step 740: Cross-Entropy Loss: 0.09370368391841717\n",
      "Step 750: Cross-Entropy Loss: 0.09262401849944603\n",
      "Step 760: Cross-Entropy Loss: 0.09157008539990627\n",
      "Step 770: Cross-Entropy Loss: 0.09054097405223391\n",
      "Step 780: Cross-Entropy Loss: 0.08953581607990029\n",
      "Step 790: Cross-Entropy Loss: 0.08855378290172565\n",
      "Step 800: Cross-Entropy Loss: 0.08759408349619381\n",
      "Step 810: Cross-Entropy Loss: 0.08665596231354626\n",
      "Step 820: Cross-Entropy Loss: 0.0857386973244787\n",
      "Step 830: Cross-Entropy Loss: 0.08484159819521285\n",
      "Step 840: Cross-Entropy Loss: 0.08396400457957297\n",
      "Step 850: Cross-Entropy Loss: 0.08310528451947713\n",
      "Step 860: Cross-Entropy Loss: 0.08226483294596024\n",
      "Step 870: Cross-Entropy Loss: 0.08144207027349003\n",
      "Step 880: Cross-Entropy Loss: 0.08063644108092075\n",
      "Step 890: Cross-Entropy Loss: 0.07984741287296418\n",
      "Step 900: Cross-Entropy Loss: 0.07907447491654242\n",
      "Step 910: Cross-Entropy Loss: 0.07831713714682936\n",
      "Step 920: Cross-Entropy Loss: 0.07757492913819379\n",
      "Step 930: Cross-Entropy Loss: 0.0768473991356257\n",
      "Step 940: Cross-Entropy Loss: 0.07613411314256603\n",
      "Step 950: Cross-Entropy Loss: 0.0754346540613689\n",
      "Step 960: Cross-Entropy Loss: 0.07474862088291002\n",
      "Step 970: Cross-Entropy Loss: 0.0740756279221137\n",
      "Step 980: Cross-Entropy Loss: 0.07341530409640962\n",
      "Step 990: Cross-Entropy Loss: 0.07276729224435001\n",
      "Step 1000: Cross-Entropy Loss: 0.07213124848181841\n"
     ]
    }
   ],
   "source": [
    "# initialize and train the model\n",
    "my_model = MyLogisticRegression()\n",
    "losses = my_model.fit(X_train_std, y_train)\n",
    "for i, loss in enumerate(losses):\n",
    "    if i%10 ==0:\n",
    "        print(\"Step {}: Cross-Entropy Loss: {}\".format(i, loss)) "
   ]
  },
  {
   "cell_type": "markdown",
   "metadata": {},
   "source": [
    "Test your model on the test dataset"
   ]
  },
  {
   "cell_type": "code",
   "execution_count": 123,
   "metadata": {},
   "outputs": [
    {
     "name": "stdout",
     "output_type": "stream",
     "text": [
      "The accuracy of your model is 1.0\n"
     ]
    }
   ],
   "source": [
    "from sklearn.metrics import accuracy_score\n",
    "\n",
    "y_pred = my_model.predict(X_test_std)\n",
    "acc = accuracy_score(y_test, y_pred)\n",
    "#print('y_test', y_test)\n",
    "print(\"The accuracy of your model is {}\".format(acc))"
   ]
  },
  {
   "cell_type": "markdown",
   "metadata": {},
   "source": [
    "Plot the decision boundary on the whole dataset"
   ]
  },
  {
   "cell_type": "code",
   "execution_count": 124,
   "metadata": {},
   "outputs": [
    {
     "name": "stderr",
     "output_type": "stream",
     "text": [
      "C:\\Users\\thinkpad\\AppData\\Local\\Temp\\ipykernel_21596\\1350311802.py:21: UserWarning: You passed a edgecolor/edgecolors ('black') for an unfilled marker ('x').  Matplotlib is ignoring the edgecolor in favor of the facecolor.  This behavior may change in the future.\n",
      "  plt.scatter(x=X[y == class_, 0], y=X[y == class_, 1],\n"
     ]
    },
    {
     "data": {
      "text/plain": "<Figure size 432x288 with 1 Axes>",
      "image/png": "[encoded data removed]"
     },
     "metadata": {
      "needs_background": "light"
     },
     "output_type": "display_data"
    }
   ],
   "source": [
    "import matplotlib.pyplot as plt\n",
    "from matplotlib.colors import ListedColormap \n",
    "\n",
    "def plot_decision_regions(X, y, classifier,                            \n",
    "                          resolution=0.02):\n",
    "    # setup marker generator and color map    \n",
    "    markers = ('s', 'x', 'o', '^', 'v')    \n",
    "    colors = ('red', 'blue', 'lightgreen', 'gray', 'cyan')    \n",
    "    cmap = ListedColormap(colors[:len(np.unique(y))])\n",
    "    # plot the decision surface    \n",
    "    x1_min, x1_max = X[:, 0].min() - 1, X[:, 0].max() + 1    \n",
    "    x2_min, x2_max = X[:, 1].min() - 1, X[:, 1].max() + 1\n",
    "    xx1, xx2 = np.meshgrid(np.arange(x1_min, x1_max, resolution),                           \n",
    "                           np.arange(x2_min, x2_max, resolution))    \n",
    "    Z = classifier.predict(np.array([xx1.ravel(), xx2.ravel()]).T)\n",
    "    Z = Z.reshape(xx1.shape)    \n",
    "    plt.contourf(xx1, xx2, Z, alpha=0.3, cmap=cmap)    \n",
    "    plt.xlim(xx1.min(), xx1.max())    \n",
    "    plt.ylim(xx2.min(), xx2.max())\n",
    "    for idx, class_ in enumerate(np.unique(y)):       \n",
    "        plt.scatter(x=X[y == class_, 0], y=X[y == class_, 1],                   \n",
    "                    alpha=0.8, c=colors[idx],                    \n",
    "                    marker=markers[idx], label=\"class {}\".format(class_),                     \n",
    "                    edgecolor='black')\n",
    "        \n",
    "        plt.legend()\n",
    "        \n",
    "# remind that we still need to transform the whole dataset first\n",
    "X_std = sc.transform(X)\n",
    "plot_decision_regions(X_std, y, classifier=my_model)"
   ]
  },
  {
   "cell_type": "markdown",
   "metadata": {},
   "source": [
    "### Part 4: Using regression logistic model in sklearn module\n",
    "`sklearn` (short for scikit-learn) is a module basing on `numpy` and `scipy`.\n",
    "This project is initialized by `David Cournapeau` in 2007.\n",
    "After years development by the community, it is already one of the most powerful package in Python.\n",
    "\n",
    "Basically, this package contains all the well-used tools in a complete data mining or machine learning process.\n",
    "\n",
    "Link to the project: [Github/scikit-learn](https://github.com/scikit-learn/scikit-learn)\n",
    "\n",
    "\n",
    "As the picture shows, this package contains all the well-used tools in a complete data mining or machine learning process.\n",
    "\n",
    "![](ml_map.png)"
   ]
  },
  {
   "cell_type": "code",
   "execution_count": 125,
   "metadata": {},
   "outputs": [
    {
     "name": "stderr",
     "output_type": "stream",
     "text": [
      "C:\\Users\\thinkpad\\AppData\\Local\\Temp\\ipykernel_21596\\1350311802.py:21: UserWarning: You passed a edgecolor/edgecolors ('black') for an unfilled marker ('x').  Matplotlib is ignoring the edgecolor in favor of the facecolor.  This behavior may change in the future.\n",
      "  plt.scatter(x=X[y == class_, 0], y=X[y == class_, 1],\n"
     ]
    },
    {
     "data": {
      "text/plain": "<Figure size 432x288 with 1 Axes>",
      "image/png": "[encoded data removed]"
     },
     "metadata": {
      "needs_background": "light"
     },
     "output_type": "display_data"
    }
   ],
   "source": [
    "from sklearn.linear_model import LogisticRegression\n",
    "\n",
    "lr = LogisticRegression()\n",
    "lr.fit(X_train_std, y_train)\n",
    "\n",
    "X_std = sc.transform(X)\n",
    "plot_decision_regions(X_std, y, classifier=lr)"
   ]
  },
  {
   "cell_type": "code",
   "execution_count": 125,
   "metadata": {},
   "outputs": [],
   "source": []
  }
 ],
 "metadata": {
  "kernelspec": {
   "display_name": "Python 3",
   "language": "python",
   "name": "python3"
  },
  "language_info": {
   "codemirror_mode": {
    "name": "ipython",
    "version": 3
   },
   "file_extension": ".py",
   "mimetype": "text/x-python",
   "name": "python",
   "nbconvert_exporter": "python",
   "pygments_lexer": "ipython3",
   "version": "3.8.8"
  },
  "vscode": {
   "interpreter": {
    "hash": "6eea70d608ba4e65e3b5d32ac8522b4d78d39b471a2766e116e1911c1dde4fb7"
   }
  }
 },
 "nbformat": 4,
 "nbformat_minor": 1
}
