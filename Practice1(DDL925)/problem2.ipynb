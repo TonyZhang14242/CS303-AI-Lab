{
 "cells": [
  {
   "cell_type": "code",
   "execution_count": null,
   "metadata": {
    "pycharm": {
     "name": "#%%\n"
    }
   },
   "outputs": [],
   "source": [
    "def floyd(graph, start, end):\n",
    "    \"\"\"\n",
    "    Args:\n",
    "        graph: a given graph, as an adjacency matrix, the non-connected edge are set to infinity\n",
    "        start: the index of the start vertex\n",
    "        end: the index of the end vertex\n",
    "\n",
    "    Returns:\n",
    "        distance: the distance from the start point to the end point.\n",
    "\n",
    "    sample:\n",
    "    input (file):\n",
    "    1          =>neighbors of node 0\n",
    "    6          =>distances of (0,1)\n",
    "    2 4        =>neighbors of node 1\n",
    "    3 10       =>distances of (1,2) (1,4)\n",
    "    3          =>neighbors of node 2\n",
    "    7          =>distances of node (2,3)\n",
    "    4          =>neighbors of node 3\n",
    "    9          =>distances of node (3,4)\n",
    "    0 3        =>neighbors of node 4\n",
    "    3 9        =>distances of node (4,0) (4,3)\n",
    "\n",
    "    graph: a distance matrix from above file\n",
    "    [[0, 6.0, inf, inf, inf],\n",
    "    [inf, 0, 3.0, inf, 10.0],\n",
    "    [inf, inf, 0, 7.0, inf],\n",
    "    [inf, inf, inf, 0, 9.0],\n",
    "    [3.0, inf, inf, 9.0, 0]]\n",
    "\n",
    "    output:\n",
    "    16\n",
    "    \"\"\"\n",
    "\n",
    "    ##############\n",
    "    #  Please write your own code in the given space.\n",
    "    for i in range(n):\n",
    "        for j in range(n):\n",
    "            for k in range(n):\n",
    "                if graph[j][i]+graph[i][k]<graph[j][k]:\n",
    "                    graph[j][k]=graph[j][i]+graph[i][k]\n",
    "\n",
    "    #############\n",
    "\n",
    "    #graph = [[]] # you should build a distance matrix (from the original graph) which include all the distances between any two vertexs.\n",
    "\n",
    "    #############\n",
    "\n",
    "    distance = graph[start][end]\n",
    "\n",
    "    return distance"
   ]
  },
  {
   "cell_type": "code",
   "execution_count": null,
   "metadata": {
    "pycharm": {
     "name": "#%%\n"
    }
   },
   "outputs": [],
   "source": [
    "# test block\n",
    "test_case = 3\n",
    "with open(f'test_cases/problem2/{test_case}.txt', 'r') as f:\n",
    "    content = f.read().strip()\n",
    "    lines = content.split('\\n')\n",
    "n = len(lines) // 2\n",
    "graph = [[float('inf')] * n for _ in range(n)]\n",
    "for i in range(n):\n",
    "    graph[i][i] = 0\n",
    "for i in range(n):\n",
    "    neighbors = [*map(int, lines[2 * i].strip().split(' '))]\n",
    "    distances = [*map(float, lines[2 * i + 1].strip().split(' '))]\n",
    "    for j in range(len(neighbors)):\n",
    "        k = neighbors[j]\n",
    "        graph[i][k] = distances[j]\n",
    "print(graph)\n",
    "print(floyd(graph, 0, n - 1))"
   ]
  }
 ],
 "metadata": {
  "interpreter": {
   "hash": "6eea70d608ba4e65e3b5d32ac8522b4d78d39b471a2766e116e1911c1dde4fb7"
  },
  "kernelspec": {
   "display_name": "Python 3.8.8 ('base')",
   "language": "python",
   "name": "python3"
  },
  "language_info": {
   "codemirror_mode": {
    "name": "ipython",
    "version": 3
   },
   "file_extension": ".py",
   "mimetype": "text/x-python",
   "name": "python",
   "nbconvert_exporter": "python",
   "pygments_lexer": "ipython3",
   "version": "3.8.8"
  }
 },
 "nbformat": 4,
 "nbformat_minor": 1
}