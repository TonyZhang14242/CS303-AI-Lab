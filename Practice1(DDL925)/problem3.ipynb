{
 "cells": [
  {
   "cell_type": "markdown",
   "metadata": {
    "pycharm": {
     "name": "#%% md\n"
    }
   },
   "source": [
    "### Snake: Simulate a snake game and print the game results.\n",
    "\n",
    "You are given a map that ‘x’ represents a rock, ‘-’represents a space, ‘#’represents the body of snake. ‘@’represent the head of the snake and a sequence of actions that ‘0,1,2,3’represent to move to up/down/left/right correspondingly for one step.\n",
    "A greedy snake starts in the map state and moves one step per unit of time according to the sequence of actions until all actions complete or fail. It will fail when the head and the stone overlap, the head goes beyond the boundary, or the head overlaps the body. \n",
    "\n",
    "#### Input\n",
    "A matrix with type char (the map). \n",
    "A sequence with type int (the motions). \n",
    "\n",
    "#### Output\n",
    "the the result of the game:\n",
    "If it failed, output the running time of the game.\n",
    "It it didn’t fail, output the final position of the head (in the form “%d, %d”)."
   ]
  },
  {
   "cell_type": "code",
   "execution_count": null,
   "metadata": {
    "pycharm": {
     "name": "#%%\n"
    }
   },
   "outputs": [],
   "source": [
    "import time\n",
    "\n",
    "\"\"\"\n",
    "Example:\n",
    "input:\n",
    "map:\n",
    "---------\n",
    "------x--\n",
    "-x-------\n",
    "---@-----\n",
    "---##----\n",
    "------x--\n",
    "--x----x-\n",
    "-x-------\n",
    "---------\n",
    "action:\n",
    "0 0 3 3 0 3 3 1 1 1 1 1 3 1 1 2 2 2 2 2\n",
    "\n",
    "output:\n",
    "7 3\n",
    "\"\"\""
   ]
  },
  {
   "cell_type": "code",
   "execution_count": null,
   "outputs": [],
   "source": [
    "body=[]\n",
    "def find_head(game_map):\n",
    "    for i in range(len(game_map)):\n",
    "        for j in range(len(game_map[i])):\n",
    "            if game_map[i][j]=='@':\n",
    "                return i, j"
   ],
   "metadata": {
    "collapsed": false,
    "pycharm": {
     "name": "#%%\n"
    }
   }
  },
  {
   "cell_type": "code",
   "execution_count": null,
   "outputs": [],
   "source": [
    "def count_body_num(game_map):\n",
    "    body_num=0\n",
    "    for i in range(len(game_map)):\n",
    "        for j in range(len(game_map[i])):\n",
    "            if game_map[i][j]=='#':\n",
    "                body_num+=1\n",
    "    return body_num"
   ],
   "metadata": {
    "collapsed": false,
    "pycharm": {
     "name": "#%%\n"
    }
   }
  },
  {
   "cell_type": "code",
   "execution_count": null,
   "outputs": [],
   "source": [
    "def add_body(game_map,head_i,head_j):\n",
    "    body_order=[]\n",
    "    body_num=count_body_num(game_map)\n",
    "    cur_i=head_i\n",
    "    cur_j=head_j\n",
    "    for i in range(body_num):\n",
    "        if game_map[cur_i+1][cur_j]=='#' and body_order.__contains__((cur_i+1,cur_j))==False:\n",
    "            cur_i=cur_i+1\n",
    "            body_order.append((cur_i,cur_j))\n",
    "        elif game_map[cur_i-1][cur_j]=='#'and body_order.__contains__((cur_i-1,cur_j))==False:\n",
    "            cur_i=cur_i-1\n",
    "            body_order.append((cur_i,cur_j))\n",
    "        elif game_map[cur_i][cur_j+1]=='#' and body_order.__contains__((cur_i,cur_j+1))==False:\n",
    "            cur_j=cur_j+1\n",
    "            body_order.append((cur_i,cur_j))\n",
    "        elif game_map[cur_i][cur_j-1]=='#' and body_order.__contains__((cur_i,cur_j-1))==False:\n",
    "            cur_j=cur_j-1\n",
    "            body_order.append((cur_i,cur_j))\n",
    "    return body_order"
   ],
   "metadata": {
    "collapsed": false,
    "pycharm": {
     "name": "#%%\n"
    }
   }
  },
  {
   "cell_type": "code",
   "execution_count": null,
   "outputs": [],
   "source": [
    "# add your code here\n",
    "def movement(game_map,actions):\n",
    "    head_i,head_j=find_head(game_map)\n",
    "    body_order=add_body(game_map,head_i, head_j)\n",
    "    tail_i,tail_j=body_order[len(body_order)-1]\n",
    "    for i in range(len(actions)):\n",
    "        if actions[i]==0:\n",
    "            head_i-=1\n",
    "            if head_i<0 :\n",
    "                return 'fail because out of range\\nTime(s):'+str(i)\n",
    "            if game_map[head_i][head_j]=='x':\n",
    "                return 'fail because running into a stone\\nTime(s):'+str(i)\n",
    "            if game_map[head_i][head_j]=='#' and tail_i!=head_i and tail_j!=head_j:\n",
    "                return 'fail because running into body\\nTime(s):'+str(i)\n",
    "            game_map[head_i][head_j]='@'\n",
    "            game_map[head_i+1][head_j]='#'\n",
    "            game_map[tail_i][tail_j]='-'\n",
    "            body_order.pop()\n",
    "            body_order=[(head_i+1,head_j)]+body_order\n",
    "            tail_i,tail_j=body_order[len(body_order)-1]\n",
    "        elif actions[i]==1:\n",
    "            head_i+=1\n",
    "            if head_i>=len(game_map) :\n",
    "                return 'fail because out of range\\nTime(s):'+str(i)\n",
    "            if game_map[head_i][head_j]=='x':\n",
    "                return 'fail because running into a stone\\nTime(s):'+str(i)\n",
    "            if game_map[head_i][head_j]=='#' and tail_i!=head_i and tail_j!=head_j:\n",
    "                return 'fail because running into body\\nTime(s):'+str(i)\n",
    "            game_map[head_i][head_j]='@'\n",
    "            game_map[head_i-1][head_j]='#'\n",
    "            game_map[tail_i][tail_j]='-'\n",
    "            body_order.pop()\n",
    "            body_order=[(head_i-1,head_j)]+body_order\n",
    "            tail_i,tail_j=body_order[len(body_order)-1]\n",
    "        elif actions[i]==2:\n",
    "            head_j-=1\n",
    "            if head_j<0 :\n",
    "                return 'fail because out of range\\nTime(s):'+str(i)\n",
    "            if game_map[head_i][head_j]=='x':\n",
    "                return 'fail because running into a stone\\nTime(s):'+str(i)\n",
    "            if game_map[head_i][head_j]=='#' and tail_i!=head_i and tail_j!=head_j:\n",
    "                return 'fail because running into body\\nTime(s):'+str(i)\n",
    "            game_map[head_i][head_j]='@'\n",
    "            game_map[head_i][head_j+1]='#'\n",
    "            game_map[tail_i][tail_j]='-'\n",
    "            body_order.pop()\n",
    "            body_order=[(head_i,head_j+1)]+body_order\n",
    "            tail_i,tail_j=body_order[len(body_order)-1]\n",
    "        elif actions[i]==3:\n",
    "            head_j+=1\n",
    "            if head_j>=len(game_map[0]) :\n",
    "                return 'fail because out of range\\nTime(s):'+str(i)\n",
    "            if game_map[head_i][head_j]=='x':\n",
    "                return 'fail because running into a stone\\nTime(s):'+str(i)\n",
    "            if game_map[head_i][head_j]=='#' and tail_i!=head_i and tail_j!=head_j:\n",
    "                return 'fail because running into body\\nTime(s):'+str(i)\n",
    "            game_map[head_i][head_j]='@'\n",
    "            game_map[head_i][head_j-1]='#'\n",
    "            game_map[tail_i][tail_j]='-'\n",
    "            body_order.pop()\n",
    "            body_order=[(head_i,head_j-1)]+body_order\n",
    "            tail_i,tail_j=body_order[len(body_order)-1]\n",
    "        \"\"\"\n",
    "        for i in range(len(game_map)):\n",
    "            for j in range(len(game_map[0])):\n",
    "                print(game_map[i][j],end=\"\")\n",
    "            print('')\n",
    "        print('\\n')\n",
    "        \"\"\"\n",
    "    return '{},{}'.format(head_i,head_j)"
   ],
   "metadata": {
    "collapsed": false,
    "pycharm": {
     "name": "#%%\n"
    }
   }
  },
  {
   "cell_type": "code",
   "execution_count": null,
   "outputs": [],
   "source": [
    "# test block, you may need to modify this block.\n",
    "test_case = 4\n",
    "with open(f'test_cases/problem3/{test_case}-map.txt', 'r') as f:\n",
    "    game_map = [list(line.strip()) for line in f.readlines()]\n",
    "with open(f'./test_cases/problem3/{test_case}-actions.txt', 'r') as f:\n",
    "    actions = [*map(int, f.read().split(' '))]\n",
    "print(movement(game_map, actions))"
   ],
   "metadata": {
    "collapsed": false,
    "pycharm": {
     "name": "#%%\n"
    }
   }
  }
 ],
 "metadata": {
  "interpreter": {
   "hash": "6eea70d608ba4e65e3b5d32ac8522b4d78d39b471a2766e116e1911c1dde4fb7"
  },
  "kernelspec": {
   "display_name": "Python 3 (ipykernel)",
   "language": "python",
   "name": "python3"
  },
  "language_info": {
   "codemirror_mode": {
    "name": "ipython",
    "version": 3
   },
   "file_extension": ".py",
   "mimetype": "text/x-python",
   "name": "python",
   "nbconvert_exporter": "python",
   "pygments_lexer": "ipython3",
   "version": "3.9.12"
  }
 },
 "nbformat": 4,
 "nbformat_minor": 1
}