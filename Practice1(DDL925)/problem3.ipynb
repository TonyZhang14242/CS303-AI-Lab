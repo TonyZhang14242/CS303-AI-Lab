{
 "cells": [
  {
   "cell_type": "markdown",
   "metadata": {
    "pycharm": {
     "name": "#%% md\n"
    }
   },
   "source": [
    "### Snake: Simulate a snake game and print the game results.\n",
    "\n",
    "You are given a map that ‘x’ represents a rock, ‘-’represents a space, ‘#’represents the body of snake. ‘@’represent the head of the snake and a sequence of actions that ‘0,1,2,3’represent to move to up/down/left/right correspondingly for one step.\n",
    "A greedy snake starts in the map state and moves one step per unit of time according to the sequence of actions until all actions complete or fail. It will fail when the head and the stone overlap, the head goes beyond the boundary, or the head overlaps the body. \n",
    "\n",
    "#### Input\n",
    "A matrix with type char (the map). \n",
    "A sequence with type int (the motions). \n",
    "\n",
    "#### Output\n",
    "the the result of the game:\n",
    "If it failed, output the running time of the game.\n",
    "It it didn’t fail, output the final position of the head (in the form “%d, %d”)."
   ]
  },
  {
   "cell_type": "code",
   "execution_count": 75,
   "metadata": {
    "pycharm": {
     "name": "#%%\n"
    }
   },
   "outputs": [
    {
     "data": {
      "text/plain": "'\\nExample:\\ninput:\\nmap:\\n---------\\n------x--\\n-x-------\\n---@-----\\n---##----\\n------x--\\n--x----x-\\n-x-------\\n---------\\naction:\\n0 0 3 3 0 3 3 1 1 1 1 1 3 1 1 2 2 2 2 2\\n\\noutput:\\n7 3\\n'"
     },
     "execution_count": 75,
     "metadata": {},
     "output_type": "execute_result"
    }
   ],
   "source": [
    "import time\n",
    "\n",
    "\"\"\"\n",
    "Example:\n",
    "input:\n",
    "map:\n",
    "---------\n",
    "------x--\n",
    "-x-------\n",
    "---@-----\n",
    "---##----\n",
    "------x--\n",
    "--x----x-\n",
    "-x-------\n",
    "---------\n",
    "action:\n",
    "0 0 3 3 0 3 3 1 1 1 1 1 3 1 1 2 2 2 2 2\n",
    "\n",
    "output:\n",
    "7 3\n",
    "\"\"\""
   ]
  },
  {
   "cell_type": "code",
   "execution_count": 76,
   "metadata": {
    "pycharm": {
     "name": "#%%\n"
    }
   },
   "outputs": [],
   "source": [
    "# add your code here\n",
    "body=[]\n",
    "def find_head(game_map):\n",
    "    for i in range(len(game_map)):\n",
    "        for j in range(len(game_map[i])):\n",
    "            if game_map[i][j]=='@':\n",
    "                return i, j\n",
    "\n",
    "def find_tail(game_map):\n",
    "    for i in range(len(game_map)):\n",
    "        for j in range(len(game_map[i])):\n",
    "            cnt=0\n",
    "            connect=False\n",
    "            if i+1>=len(game_map) or game_map[i+1][j]=='-' or game_map[i+1][j]=='x':\n",
    "                cnt+=1\n",
    "            if i-1<0 or game_map[i-1][j]=='-' or game_map[i-1][j]=='x':\n",
    "                cnt+=1\n",
    "            if j+1>=len(game_map[0]) or game_map[i][j+1]=='-' or game_map[i][j+1]=='x':\n",
    "                cnt+=1\n",
    "            if j-1<0 or game_map[i][j-1]=='-' or game_map[i][j-1]=='x':\n",
    "                cnt+=1\n",
    "            '''\n",
    "            if i+1<len(game_map) and game_map[i+1][j]=='#':\n",
    "                connect=True\n",
    "            elif j+1<len(game_map[0]) and game_map[i][j+1]=='#':\n",
    "                connect=True\n",
    "            elif j-1>=0 and game_map[i][j-1]=='#':\n",
    "                connect=True\n",
    "            elif i-1>=0 and game_map[i-1][j]=='#':\n",
    "                connect=True\n",
    "            '''\n",
    "            if cnt==3 and game_map[i][j]=='#':\n",
    "                return i,j\n",
    "\n",
    "\n",
    "def movement(game_map,actions):\n",
    "    st_time=time.time()\n",
    "    head_i,head_j=find_head(game_map)\n",
    "    tail_i,tail_j=find_tail(game_map)\n",
    "    #print(head_i,head_j,tail_i,tail_j)\n",
    "    for i in range(len(actions)):\n",
    "        if actions[i]==0:\n",
    "            head_i-=1\n",
    "            if head_i<0 :\n",
    "                return 'fail because out of range\\nTime(s):'+str(time.time()-st_time)\n",
    "            if game_map[head_i][head_j]=='x':\n",
    "                return 'fail because running into a stone\\nTime(s):'+str(time.time()-st_time)\n",
    "            if game_map[head_i][head_j]=='#' and tail_i!=head_i and tail_j!=head_j:\n",
    "                return 'fail because running into body\\nTime(s):'+str(time.time()-st_time)\n",
    "            game_map[head_i][head_j]='@'\n",
    "            game_map[head_i+1][head_j]='#'\n",
    "            game_map[tail_i][tail_j]='-'\n",
    "            tail_i,tail_j=find_tail(game_map)\n",
    "        elif actions[i]==1:\n",
    "            head_i+=1\n",
    "            if head_i>=len(game_map) :\n",
    "                return 'fail because out of range\\nTime(s):'+str(time.time()-st_time)\n",
    "            if game_map[head_i][head_j]=='x':\n",
    "                return 'fail because running into a stone\\nTime(s):'+str(time.time()-st_time)\n",
    "            if game_map[head_i][head_j]=='#' and tail_i!=head_i and tail_j!=head_j:\n",
    "                return 'fail because running into body\\nTime(s):'+str(time.time()-st_time)\n",
    "            game_map[head_i][head_j]='@'\n",
    "            game_map[head_i-1][head_j]='#'\n",
    "            game_map[tail_i][tail_j]='-'\n",
    "            tail_i,tail_j=find_tail(game_map)\n",
    "        elif actions[i]==2:\n",
    "            head_j-=1\n",
    "            if head_j<0 :\n",
    "                return 'fail because out of range\\nTime(s):'+str(time.time()-st_time)\n",
    "            if game_map[head_i][head_j]=='x':\n",
    "                return 'fail because running into a stone\\nTime(s):'+str(time.time()-st_time)\n",
    "            if game_map[head_i][head_j]=='#' and tail_i!=head_i and tail_j!=head_j:\n",
    "                return 'fail because running into body\\nTime(s):'+str(time.time()-st_time)\n",
    "            game_map[head_i][head_j]='@'\n",
    "            game_map[head_i][head_j+1]='#'\n",
    "            game_map[tail_i][tail_j]='-'\n",
    "            tail_i,tail_j=find_tail(game_map)\n",
    "        elif actions[i]==3:\n",
    "            head_j+=1\n",
    "            if head_j>=len(game_map[0]) :\n",
    "                return 'fail because out of range\\nTime(s):'+str(time.time()-st_time)\n",
    "            if game_map[head_i][head_j]=='x':\n",
    "                return 'fail because running into a stone\\nTime(s):'+str(time.time()-st_time)\n",
    "            if game_map[head_i][head_j]=='#' and tail_i!=head_i and tail_j!=head_j:\n",
    "                return 'fail because running into body\\nTime(s):'+str(time.time()-st_time)\n",
    "            game_map[head_i][head_j]='@'\n",
    "            game_map[head_i][head_j-1]='#'\n",
    "            game_map[tail_i][tail_j]='-'\n",
    "            tail_i,tail_j=find_tail(game_map)\n",
    "        '''\n",
    "        for i in range(len(game_map)):\n",
    "            for j in range(len(game_map[0])):\n",
    "                print(game_map[i][j],end=\"\")\n",
    "            print('\\n')\n",
    "        print('\\n')\n",
    "        '''\n",
    "    return head_i,head_j\n",
    "\n",
    "\n"
   ]
  },
  {
   "cell_type": "code",
   "execution_count": 77,
   "metadata": {
    "pycharm": {
     "name": "#%%\n"
    }
   },
   "outputs": [
    {
     "name": "stdout",
     "output_type": "stream",
     "text": [
      "fail because running into body\n",
      "Time(s):0.007638692855834961\n"
     ]
    }
   ],
   "source": [
    "# test block, you may need to modify this block.\n",
    "test_case = 4\n",
    "with open(f'test_cases/problem3/{test_case}-map.txt', 'r') as f:\n",
    "    game_map = [list(line.strip()) for line in f.readlines()]\n",
    "with open(f'./test_cases/problem3/{test_case}-actions.txt', 'r') as f:\n",
    "    actions = [*map(int, f.read().split(' '))]\n",
    "print(movement(game_map, actions))\n"
   ]
  }
 ],
 "metadata": {
  "interpreter": {
   "hash": "6eea70d608ba4e65e3b5d32ac8522b4d78d39b471a2766e116e1911c1dde4fb7"
  },
  "kernelspec": {
   "display_name": "Python 3 (ipykernel)",
   "language": "python",
   "name": "python3"
  },
  "language_info": {
   "codemirror_mode": {
    "name": "ipython",
    "version": 3
   },
   "file_extension": ".py",
   "mimetype": "text/x-python",
   "name": "python",
   "nbconvert_exporter": "python",
   "pygments_lexer": "ipython3",
   "version": "3.9.12"
  }
 },
 "nbformat": 4,
 "nbformat_minor": 1
}