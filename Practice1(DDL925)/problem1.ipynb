{
 "cells": [
  {
   "cell_type": "code",
   "execution_count": null,
   "metadata": {
    "pycharm": {
     "name": "#%%\n"
    }
   },
   "outputs": [],
   "source": [
    "def two_sum(sequence, t):\n",
    "    \"\"\"\n",
    "    Args:\n",
    "        sequence: the given sequence as a list\n",
    "        t: the given target number, which should be the sum of two selected integers.\n",
    "\n",
    "    Returns:\n",
    "        res: A list of tuple. And each tuple would be the idx of two selected integers.\n",
    "    Example:\n",
    "        input:\n",
    "        1 2 3 4\n",
    "        5\n",
    "        output:\n",
    "        0 3\n",
    "        1 2\n",
    "\n",
    "    \"\"\"\n",
    "    res = []\n",
    "\n",
    "    ##############\n",
    "    #  Please write your own code in the given space.\n",
    "    found=[]\n",
    "    map={}\n",
    "    for i in range(len(sequence)):\n",
    "        map[sequence[i]]=i\n",
    "    sequence.sort()\n",
    "\n",
    "    for i in range(len(sequence)):\n",
    "        loc=binary_search(sequence,t-sequence[i])\n",
    "        if loc is not None and found.__contains__(map.get(sequence[loc])) is False:\n",
    "            tuple=(map.get(sequence[i]),map.get(sequence[loc]))\n",
    "            res.append(tuple)\n",
    "            found.append(map.get(sequence[i]))\n",
    "            found.append(map.get(sequence[loc]))\n",
    "\n",
    "\n",
    "    #############\n",
    "\n",
    "    #############\n",
    "\n",
    "    return res"
   ]
  },
  {
   "cell_type": "code",
   "execution_count": null,
   "outputs": [],
   "source": [
    "def binary_search(lst, target):\n",
    "    start = 0\n",
    "    end = len(lst) - 1\n",
    "    while(start <= end):\n",
    "        mid = (start + end) // 2\n",
    "        if(lst[mid] > target):\n",
    "            end = mid - 1\n",
    "        elif(lst[mid] < target):\n",
    "            start = mid + 1\n",
    "        else:\n",
    "            return mid\n",
    "    return None"
   ],
   "metadata": {
    "collapsed": false,
    "pycharm": {
     "name": "#%%\n"
    }
   }
  },
  {
   "cell_type": "code",
   "execution_count": null,
   "outputs": [],
   "source": [
    "# test block\n",
    "for i in range(3):\n",
    "    print(f'case {i}')\n",
    "    with open(f'./test_cases/problem1/{i + 1}.txt', 'r') as f:\n",
    "        seq, tar = f.read().strip().split('\\n')\n",
    "        seq = [*map(int, seq.split(' '))]\n",
    "        tar = int(tar)\n",
    "\n",
    "\n",
    "    for item in two_sum(seq, tar):\n",
    "        print('%d %d' % item)"
   ],
   "metadata": {
    "collapsed": false,
    "pycharm": {
     "name": "#%%\n"
    }
   }
  }
 ],
 "metadata": {
  "kernelspec": {
   "display_name": "Python 3",
   "language": "python",
   "name": "python3"
  },
  "language_info": {
   "codemirror_mode": {
    "name": "ipython",
    "version": 3
   },
   "file_extension": ".py",
   "mimetype": "text/x-python",
   "name": "python",
   "nbconvert_exporter": "python",
   "pygments_lexer": "ipython3",
   "version": "3.8.8"
  }
 },
 "nbformat": 4,
 "nbformat_minor": 1
}