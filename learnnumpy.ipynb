{
 "cells": [
  {
   "cell_type": "markdown",
   "id": "cae2e6a8",
   "metadata": {},
   "source": [
    "# Numpy\n",
    "Numpy is an extended python library including a lot of operations on matrix and mathematical function library.\n"
   ]
  },
  {
   "cell_type": "code",
   "execution_count": 1,
   "id": "49f41938",
   "metadata": {},
   "outputs": [],
   "source": [
    "# rename numpy as np for convenience\n",
    "import numpy as np"
   ]
  },
  {
   "cell_type": "markdown",
   "id": "486246e9",
   "metadata": {},
   "source": [
    "## 1. Array/Matrix Creation\n",
    "\n",
    "### 1.1 Converting Python sequences to NumPy Arrays\n",
    "NumPy arrays can be defined using Python sequences such as lists and tuples. Lists and tuples are defined using [...] and (...), respectively. Lists and tuples can define ndarray creation:\n",
    "\n",
    "- a list of numbers will create a 1D array,\n",
    "\n",
    "- a list of lists will create a 2D array,\n",
    "\n",
    "- further nested lists will create higher-dimensional arrays. In general, any array object is called an ndarray in NumPy."
   ]
  },
  {
   "cell_type": "code",
   "execution_count": 2,
   "id": "82c2c0ea",
   "metadata": {},
   "outputs": [
    {
     "data": {
      "text/plain": [
       "array([0, 1, 2, 3, 4, 5])"
      ]
     },
     "execution_count": 2,
     "metadata": {},
     "output_type": "execute_result"
    }
   ],
   "source": [
    "# use a list to initialize a one-dimentional numpy array\n",
    "arr=np.array([0,1,2,3,4,5])\n",
    "arr"
   ]
  },
  {
   "cell_type": "code",
   "execution_count": 3,
   "id": "d4953973",
   "metadata": {},
   "outputs": [
    {
     "data": {
      "text/plain": [
       "numpy.ndarray"
      ]
     },
     "execution_count": 3,
     "metadata": {},
     "output_type": "execute_result"
    }
   ],
   "source": [
    "type(arr)  # <class 'numpy.ndarray'>"
   ]
  },
  {
   "cell_type": "code",
   "execution_count": 4,
   "id": "7aa491e2",
   "metadata": {},
   "outputs": [
    {
     "data": {
      "text/plain": [
       "8"
      ]
     },
     "execution_count": 4,
     "metadata": {},
     "output_type": "execute_result"
    }
   ],
   "source": [
    "arr.itemsize #number of Bytes for each element, floating"
   ]
  },
  {
   "cell_type": "code",
   "execution_count": 5,
   "id": "a97dcac0",
   "metadata": {},
   "outputs": [
    {
     "data": {
      "text/plain": [
       "2"
      ]
     },
     "execution_count": 5,
     "metadata": {},
     "output_type": "execute_result"
    }
   ],
   "source": [
    "arr = np.array([0,1,2,3,4,5], dtype='int16')  ## initialize with int type\n",
    "arr.itemsize ## int type"
   ]
  },
  {
   "cell_type": "code",
   "execution_count": 6,
   "id": "d5c18c7d",
   "metadata": {},
   "outputs": [
    {
     "data": {
      "text/plain": [
       "dtype('int16')"
      ]
     },
     "execution_count": 6,
     "metadata": {},
     "output_type": "execute_result"
    }
   ],
   "source": [
    "arr.dtype    ## 'int16'"
   ]
  },
  {
   "cell_type": "code",
   "execution_count": 7,
   "id": "b8e36aff",
   "metadata": {},
   "outputs": [
    {
     "data": {
      "text/plain": [
       "(array([0, 1, 2, 3, 4, 5], dtype=int16),\n",
       " array([0., 1., 2., 3., 4., 5.], dtype=float32))"
      ]
     },
     "execution_count": 7,
     "metadata": {},
     "output_type": "execute_result"
    }
   ],
   "source": [
    "arrf = arr.astype('float32')\n",
    "arr,arrf"
   ]
  },
  {
   "cell_type": "code",
   "execution_count": 8,
   "id": "0c4516bf",
   "metadata": {},
   "outputs": [
    {
     "data": {
      "text/plain": [
       "(array([[1, 2],\n",
       "        [3, 4]]),\n",
       " array([[[1, 2],\n",
       "         [3, 4]],\n",
       " \n",
       "        [[5, 6],\n",
       "         [7, 8]]]))"
      ]
     },
     "execution_count": 8,
     "metadata": {},
     "output_type": "execute_result"
    }
   ],
   "source": [
    "# use a list of lists to initialize a two-dimentional numpy array\n",
    "arr2d = np.array([[1, 2], [3, 4]])\n",
    "#use further nested lists to initialize a higher-dimensional arrays\n",
    "arr3d = np.array([[[1, 2], [3, 4]], [[5, 6], [7, 8]]])\n",
    "arr2d,arr3d"
   ]
  },
  {
   "cell_type": "markdown",
   "id": "794bc696",
   "metadata": {},
   "source": [
    "### 1.2 Intrinsic NumPy array creation functions\n",
    "\n",
    "#### 1D array creation functions\n",
    "<hr>\n",
    "\n",
    "**numpy.arange** creates arrays with regularly incrementing values.\n",
    "<https://numpy.org/doc/stable/reference/generated/numpy.arange.html#numpy.arange>"
   ]
  },
  {
   "cell_type": "code",
   "execution_count": 9,
   "id": "beb7ff03",
   "metadata": {},
   "outputs": [
    {
     "data": {
      "text/plain": [
       "array([0, 1, 2, 3, 4, 5, 6, 7, 8, 9])"
      ]
     },
     "execution_count": 9,
     "metadata": {},
     "output_type": "execute_result"
    }
   ],
   "source": [
    "np.arange(10)"
   ]
  },
  {
   "cell_type": "code",
   "execution_count": 10,
   "id": "da853568",
   "metadata": {},
   "outputs": [
    {
     "data": {
      "text/plain": [
       "array([2., 3., 4., 5., 6., 7., 8., 9.])"
      ]
     },
     "execution_count": 10,
     "metadata": {},
     "output_type": "execute_result"
    }
   ],
   "source": [
    "np.arange(2, 10, dtype=float)"
   ]
  },
  {
   "cell_type": "code",
   "execution_count": 11,
   "id": "e5267145",
   "metadata": {},
   "outputs": [
    {
     "data": {
      "text/plain": [
       "array([2. , 2.1, 2.2, 2.3, 2.4, 2.5, 2.6, 2.7, 2.8, 2.9])"
      ]
     },
     "execution_count": 11,
     "metadata": {},
     "output_type": "execute_result"
    }
   ],
   "source": [
    "np.arange(2, 3, 0.1)"
   ]
  },
  {
   "cell_type": "markdown",
   "id": "c38ebc5a",
   "metadata": {},
   "source": [
    "Note: best practice for numpy.arange is to use integer start, end, and step values. There are some subtleties regarding dtype. In the second example, the dtype is defined. In the third example, the array is dtype=float to accommodate the step size of 0.1. Due to roundoff error, the stop value is sometimes included.\n",
    "<hr>\n",
    "\n",
    "**numpy.linspace** will create arrays with a specified number of elements, and spaced equally between the specified beginning and end values.\n",
    "<https://numpy.org/doc/stable/reference/generated/numpy.linspace.html#numpy.linspace>"
   ]
  },
  {
   "cell_type": "code",
   "execution_count": 12,
   "id": "a49c42af",
   "metadata": {},
   "outputs": [
    {
     "data": {
      "text/plain": [
       "array([1. , 1.6, 2.2, 2.8, 3.4, 4. ])"
      ]
     },
     "execution_count": 12,
     "metadata": {},
     "output_type": "execute_result"
    }
   ],
   "source": [
    "np.linspace(1., 4., 6)"
   ]
  },
  {
   "cell_type": "markdown",
   "id": "77dcb59b",
   "metadata": {},
   "source": [
    "#### 2D array creation functions\n",
    "\n",
    "<hr>\n",
    "\n",
    "**numpy.diag** can define either a square 2D array with given values along the diagonal or if given a 2D array returns a 1D array that is only the diagonal elements."
   ]
  },
  {
   "cell_type": "code",
   "execution_count": 13,
   "id": "d221afe9",
   "metadata": {},
   "outputs": [
    {
     "data": {
      "text/plain": [
       "array([[1, 0, 0, 0],\n",
       "       [0, 2, 0, 0],\n",
       "       [0, 0, 3, 0],\n",
       "       [0, 0, 0, 4]])"
      ]
     },
     "execution_count": 13,
     "metadata": {},
     "output_type": "execute_result"
    }
   ],
   "source": [
    "np.diag([1, 2, 3, 4])"
   ]
  },
  {
   "cell_type": "code",
   "execution_count": 14,
   "id": "8492a259",
   "metadata": {},
   "outputs": [
    {
     "data": {
      "text/plain": [
       "array([[0, 0, 0, 0, 0],\n",
       "       [1, 0, 0, 0, 0],\n",
       "       [0, 2, 0, 0, 0],\n",
       "       [0, 0, 3, 0, 0],\n",
       "       [0, 0, 0, 4, 0]])"
      ]
     },
     "execution_count": 14,
     "metadata": {},
     "output_type": "execute_result"
    }
   ],
   "source": [
    "np.diag([1, 2, 3, 4], -1)"
   ]
  },
  {
   "cell_type": "code",
   "execution_count": 15,
   "id": "414dcc68",
   "metadata": {},
   "outputs": [
    {
     "data": {
      "text/plain": [
       "(array([[1, 2],\n",
       "        [3, 4]]),\n",
       " array([1, 4]))"
      ]
     },
     "execution_count": 15,
     "metadata": {},
     "output_type": "execute_result"
    }
   ],
   "source": [
    "a = np.array([[1, 2], [3, 4]])\n",
    "a, np.diag(a)"
   ]
  },
  {
   "cell_type": "code",
   "execution_count": 16,
   "id": "46c9218a",
   "metadata": {},
   "outputs": [
    {
     "data": {
      "text/plain": [
       "array([[1., 0., 0., 0.],\n",
       "       [0., 1., 0., 0.],\n",
       "       [0., 0., 1., 0.],\n",
       "       [0., 0., 0., 1.]])"
      ]
     },
     "execution_count": 16,
     "metadata": {},
     "output_type": "execute_result"
    }
   ],
   "source": [
    "np.identity(4)# identity matrix"
   ]
  },
  {
   "cell_type": "code",
   "execution_count": 17,
   "id": "7d6ab3f3",
   "metadata": {},
   "outputs": [
    {
     "data": {
      "text/plain": [
       "array([[1., 0., 0.],\n",
       "       [0., 1., 0.],\n",
       "       [0., 0., 1.]])"
      ]
     },
     "execution_count": 17,
     "metadata": {},
     "output_type": "execute_result"
    }
   ],
   "source": [
    "np.eye(3)"
   ]
  },
  {
   "cell_type": "markdown",
   "id": "2d336841",
   "metadata": {},
   "source": [
    "<hr>\n",
    "\n",
    "#### General ndarray creation functions\n",
    "The ndarray creation functions e.g. **numpy.ones**, **numpy.zeros**, and **numpy.full** define arrays based upon the desired shape. The ndarray creation functions can create arrays with any dimension by specifying how many dimensions and length along that dimension in a tuple or list."
   ]
  },
  {
   "cell_type": "code",
   "execution_count": 18,
   "id": "a0a74943",
   "metadata": {},
   "outputs": [
    {
     "data": {
      "text/plain": [
       "array([[0., 0., 0., 0., 0., 0., 0., 0., 0., 0.],\n",
       "       [0., 0., 0., 0., 0., 0., 0., 0., 0., 0.],\n",
       "       [0., 0., 0., 0., 0., 0., 0., 0., 0., 0.],\n",
       "       [0., 0., 0., 0., 0., 0., 0., 0., 0., 0.],\n",
       "       [0., 0., 0., 0., 0., 0., 0., 0., 0., 0.],\n",
       "       [0., 0., 0., 0., 0., 0., 0., 0., 0., 0.],\n",
       "       [0., 0., 0., 0., 0., 0., 0., 0., 0., 0.],\n",
       "       [0., 0., 0., 0., 0., 0., 0., 0., 0., 0.],\n",
       "       [0., 0., 0., 0., 0., 0., 0., 0., 0., 0.],\n",
       "       [0., 0., 0., 0., 0., 0., 0., 0., 0., 0.]])"
      ]
     },
     "execution_count": 18,
     "metadata": {},
     "output_type": "execute_result"
    }
   ],
   "source": [
    "np.zeros((10,10))"
   ]
  },
  {
   "cell_type": "code",
   "execution_count": 19,
   "id": "dc6c5ead",
   "metadata": {},
   "outputs": [
    {
     "data": {
      "text/plain": [
       "array([[[1., 1.],\n",
       "        [1., 1.],\n",
       "        [1., 1.]],\n",
       "\n",
       "       [[1., 1.],\n",
       "        [1., 1.],\n",
       "        [1., 1.]]])"
      ]
     },
     "execution_count": 19,
     "metadata": {},
     "output_type": "execute_result"
    }
   ],
   "source": [
    "np.ones((2,3,2))"
   ]
  },
  {
   "cell_type": "code",
   "execution_count": 20,
   "id": "1a9feba9",
   "metadata": {},
   "outputs": [
    {
     "data": {
      "text/plain": [
       "array([[2, 2, 2, 2, 2],\n",
       "       [2, 2, 2, 2, 2],\n",
       "       [2, 2, 2, 2, 2],\n",
       "       [2, 2, 2, 2, 2]])"
      ]
     },
     "execution_count": 20,
     "metadata": {},
     "output_type": "execute_result"
    }
   ],
   "source": [
    "np.full((4,5),2)"
   ]
  },
  {
   "cell_type": "markdown",
   "id": "e516eb18",
   "metadata": {},
   "source": [
    "The **random** method of the result of **default_rng** will create an array filled with random values between 0 and 1. It is included with the **numpy.random** library. Below, two arrays are created with shapes (2,3) and (2,3,2), respectively. The seed is set to 42 so you can reproduce these pseudorandom numbers:"
   ]
  },
  {
   "cell_type": "code",
   "execution_count": 21,
   "id": "addc1a9b",
   "metadata": {},
   "outputs": [
    {
     "data": {
      "text/plain": [
       "(array([[0.77395605, 0.43887844, 0.85859792],\n",
       "        [0.69736803, 0.09417735, 0.97562235]]),\n",
       " array([[[0.77395605, 0.43887844],\n",
       "         [0.85859792, 0.69736803],\n",
       "         [0.09417735, 0.97562235]],\n",
       " \n",
       "        [[0.7611397 , 0.78606431],\n",
       "         [0.12811363, 0.45038594],\n",
       "         [0.37079802, 0.92676499]]]))"
      ]
     },
     "execution_count": 21,
     "metadata": {},
     "output_type": "execute_result"
    }
   ],
   "source": [
    "from numpy.random import default_rng\n",
    "default_rng(42).random((2,3)),default_rng(42).random((2,3,2))"
   ]
  },
  {
   "cell_type": "markdown",
   "id": "4b5b0b18",
   "metadata": {},
   "source": [
    "<hr>\n",
    "\n",
    "#### Replicating, joining, or mutating existing arrays\n",
    "Once you have created arrays, you can replicate, join, or mutate those existing arrays to create new arrays. When you assign an array or its elements to a new variable, you have to explicitly **numpy.copy** the array, otherwise the variable is a view into the original array. "
   ]
  },
  {
   "cell_type": "code",
   "execution_count": 22,
   "id": "199300e2",
   "metadata": {},
   "outputs": [
    {
     "data": {
      "text/plain": [
       "(array([2, 3, 3, 4, 5, 6]), array([2, 3]))"
      ]
     },
     "execution_count": 22,
     "metadata": {},
     "output_type": "execute_result"
    }
   ],
   "source": [
    "a = np.array([1, 2, 3, 4, 5, 6])\n",
    "b = a[:2]\n",
    "b += 1\n",
    "a,b"
   ]
  },
  {
   "cell_type": "markdown",
   "id": "ad2c763b",
   "metadata": {},
   "source": [
    "In above example, you did not create a new array. You created a variable, **b** that viewed the first 2 elements of a. When you added 1 to b you would get the same result by adding 1 to a[:2]. If you want to create a new array, use the numpy.copy array creation routine as such:"
   ]
  },
  {
   "cell_type": "code",
   "execution_count": 23,
   "id": "48ed5f62",
   "metadata": {},
   "outputs": [
    {
     "data": {
      "text/plain": [
       "(array([1, 2, 3, 4, 5, 6]), array([2, 3]))"
      ]
     },
     "execution_count": 23,
     "metadata": {},
     "output_type": "execute_result"
    }
   ],
   "source": [
    "a = np.array([1, 2, 3, 4, 5, 6])\n",
    "b = a[:2].copy()\n",
    "b += 1\n",
    "a,b"
   ]
  },
  {
   "cell_type": "markdown",
   "id": "87cd9bec",
   "metadata": {},
   "source": [
    "## 2. Array/Matrix Operations\n",
    "### 2.1 Indexing on ndarrays\n"
   ]
  },
  {
   "cell_type": "code",
   "execution_count": 24,
   "id": "538e0236",
   "metadata": {},
   "outputs": [
    {
     "data": {
      "text/plain": [
       "2"
      ]
     },
     "execution_count": 24,
     "metadata": {},
     "output_type": "execute_result"
    }
   ],
   "source": [
    "x = np.arange(10)\n",
    "x[2]"
   ]
  },
  {
   "cell_type": "code",
   "execution_count": 25,
   "id": "ee0f3ee6",
   "metadata": {},
   "outputs": [
    {
     "data": {
      "text/plain": [
       "(10,)"
      ]
     },
     "execution_count": 25,
     "metadata": {},
     "output_type": "execute_result"
    }
   ],
   "source": [
    "x.shape"
   ]
  },
  {
   "cell_type": "code",
   "execution_count": 26,
   "id": "86bc35bb",
   "metadata": {},
   "outputs": [
    {
     "data": {
      "text/plain": [
       "array([[0, 1, 2, 3, 4],\n",
       "       [5, 6, 7, 8, 9]])"
      ]
     },
     "execution_count": 26,
     "metadata": {},
     "output_type": "execute_result"
    }
   ],
   "source": [
    "x.shape = (2,5)\n",
    "x # x reshape from （10,） to （2,5）"
   ]
  },
  {
   "cell_type": "code",
   "execution_count": 27,
   "id": "9f36f4e8",
   "metadata": {},
   "outputs": [
    {
     "data": {
      "text/plain": [
       "8"
      ]
     },
     "execution_count": 27,
     "metadata": {},
     "output_type": "execute_result"
    }
   ],
   "source": [
    "x[1,3]"
   ]
  },
  {
   "cell_type": "code",
   "execution_count": 28,
   "id": "53aa53ce",
   "metadata": {},
   "outputs": [
    {
     "data": {
      "text/plain": [
       "array([0, 1, 2, 3, 4])"
      ]
     },
     "execution_count": 28,
     "metadata": {},
     "output_type": "execute_result"
    }
   ],
   "source": [
    "x[0]"
   ]
  },
  {
   "cell_type": "code",
   "execution_count": 29,
   "id": "01d806bd",
   "metadata": {},
   "outputs": [
    {
     "data": {
      "text/plain": [
       "array([[0, 1, 2, 3, 4]])"
      ]
     },
     "execution_count": 29,
     "metadata": {},
     "output_type": "execute_result"
    }
   ],
   "source": [
    "x[0:5:2] #slice, get from the first row to the 5th row with stepsize = 2, but x only has row 0 and 1"
   ]
  },
  {
   "cell_type": "code",
   "execution_count": 30,
   "id": "516b4454",
   "metadata": {},
   "outputs": [
    {
     "data": {
      "text/plain": [
       "array([5, 6, 7, 8, 9])"
      ]
     },
     "execution_count": 30,
     "metadata": {},
     "output_type": "execute_result"
    }
   ],
   "source": [
    "x[-1] #slice, get last row"
   ]
  },
  {
   "cell_type": "code",
   "execution_count": 31,
   "id": "d33a2e3e",
   "metadata": {},
   "outputs": [
    {
     "data": {
      "text/plain": [
       "array([[0, 2, 4],\n",
       "       [5, 7, 9]])"
      ]
     },
     "execution_count": 31,
     "metadata": {},
     "output_type": "execute_result"
    }
   ],
   "source": [
    "x[:,0::2] #slice, get all row and columns from the first column to the last column with stepsize = 2"
   ]
  },
  {
   "cell_type": "code",
   "execution_count": 32,
   "id": "e9aabefa",
   "metadata": {},
   "outputs": [
    {
     "data": {
      "text/plain": [
       "array([0, 7])"
      ]
     },
     "execution_count": 32,
     "metadata": {},
     "output_type": "execute_result"
    }
   ],
   "source": [
    "x[np.array([0, 1]), np.array([0, 2])] #get x[0,0] and x[1,2]"
   ]
  },
  {
   "cell_type": "code",
   "execution_count": 33,
   "id": "8002b8bf",
   "metadata": {},
   "outputs": [
    {
     "data": {
      "text/plain": [
       "array([2, 7])"
      ]
     },
     "execution_count": 33,
     "metadata": {},
     "output_type": "execute_result"
    }
   ],
   "source": [
    "x[np.array([0, 1]), 2]#broadcasting mechanism: get x[0,2] and x[1,2]"
   ]
  },
  {
   "cell_type": "code",
   "execution_count": 34,
   "id": "e34374ea",
   "metadata": {},
   "outputs": [
    {
     "data": {
      "text/plain": [
       "array([0, 6])"
      ]
     },
     "execution_count": 34,
     "metadata": {},
     "output_type": "execute_result"
    }
   ],
   "source": [
    "x.diagonal() # get the diagonal elements of x"
   ]
  },
  {
   "cell_type": "code",
   "execution_count": 35,
   "id": "1699ea8e",
   "metadata": {},
   "outputs": [
    {
     "data": {
      "text/plain": [
       "array([1, 7])"
      ]
     },
     "execution_count": 35,
     "metadata": {},
     "output_type": "execute_result"
    }
   ],
   "source": [
    "x.diagonal(offset=1) "
   ]
  },
  {
   "cell_type": "code",
   "execution_count": 36,
   "id": "2a38fd6d",
   "metadata": {},
   "outputs": [
    {
     "data": {
      "text/plain": [
       "array([5])"
      ]
     },
     "execution_count": 36,
     "metadata": {},
     "output_type": "execute_result"
    }
   ],
   "source": [
    "x.diagonal(offset=-1) "
   ]
  },
  {
   "cell_type": "code",
   "execution_count": 37,
   "id": "c1a036b0",
   "metadata": {},
   "outputs": [
    {
     "data": {
      "text/plain": [
       "array([0, 6])"
      ]
     },
     "execution_count": 37,
     "metadata": {},
     "output_type": "execute_result"
    }
   ],
   "source": [
    "np.diag(x)# get the diagonal elements of x"
   ]
  },
  {
   "cell_type": "code",
   "execution_count": 38,
   "id": "d2f707f8",
   "metadata": {},
   "outputs": [
    {
     "data": {
      "text/plain": [
       "array([0, 6])"
      ]
     },
     "execution_count": 38,
     "metadata": {},
     "output_type": "execute_result"
    }
   ],
   "source": [
    "i = np.arange(2)# get the diagonal elements of x\n",
    "x[i,i]"
   ]
  },
  {
   "cell_type": "markdown",
   "id": "73891705",
   "metadata": {},
   "source": [
    "### 2.2 Array manipulations\n",
    "**numpy.tile(A, reps)**  \n",
    "Construct an array by repeating A the number of times given by reps."
   ]
  },
  {
   "cell_type": "code",
   "execution_count": 39,
   "id": "38a85e51",
   "metadata": {},
   "outputs": [
    {
     "data": {
      "text/plain": [
       "array([[1, 2, 1, 2],\n",
       "       [3, 4, 3, 4]])"
      ]
     },
     "execution_count": 39,
     "metadata": {},
     "output_type": "execute_result"
    }
   ],
   "source": [
    "a = np.array([[1, 2], [3, 4]])\n",
    "np.tile(a, 2)"
   ]
  },
  {
   "cell_type": "code",
   "execution_count": 40,
   "id": "9e6a86fa",
   "metadata": {},
   "outputs": [
    {
     "data": {
      "text/plain": [
       "array([[1, 2, 1, 2],\n",
       "       [3, 4, 3, 4],\n",
       "       [1, 2, 1, 2],\n",
       "       [3, 4, 3, 4]])"
      ]
     },
     "execution_count": 40,
     "metadata": {},
     "output_type": "execute_result"
    }
   ],
   "source": [
    "np.tile(a, (2, 2))"
   ]
  },
  {
   "cell_type": "code",
   "execution_count": 41,
   "id": "db3b6db3",
   "metadata": {},
   "outputs": [
    {
     "data": {
      "text/plain": [
       "array([[1, 2],\n",
       "       [3, 4],\n",
       "       [1, 2],\n",
       "       [3, 4]])"
      ]
     },
     "execution_count": 41,
     "metadata": {},
     "output_type": "execute_result"
    }
   ],
   "source": [
    "np.tile(a, (2, 1))"
   ]
  },
  {
   "cell_type": "markdown",
   "id": "c6764ac7",
   "metadata": {},
   "source": [
    "**numpy.stack**  \n",
    "Join a sequence of arrays along a new axis. Each array must have the same shape."
   ]
  },
  {
   "cell_type": "code",
   "execution_count": 42,
   "id": "b2796f48",
   "metadata": {},
   "outputs": [
    {
     "data": {
      "text/plain": [
       "[array([[-1.74616941, -0.49917244,  0.23694957, -0.23119127],\n",
       "        [-0.93183141, -0.68668871,  0.28140663,  0.45750144],\n",
       "        [-0.13346125,  1.2539656 , -0.13034795,  0.05837532]]),\n",
       " array([[-0.53606807, -1.04333681, -2.18635573, -0.64550025],\n",
       "        [-0.31897133, -0.52988893,  1.34994401,  2.63445306],\n",
       "        [-1.57548331,  0.11181588, -0.01735185,  0.56046698]]),\n",
       " array([[ 1.11836473, -0.82127413, -0.20851233,  0.18955685],\n",
       "        [ 0.04072771,  0.61004222,  0.01857743,  0.34732512],\n",
       "        [-1.48162812,  0.63176177,  0.6583614 , -0.80785574]]),\n",
       " array([[-1.05668637,  0.83383874, -1.09247005,  0.80808088],\n",
       "        [-2.19034601,  1.31164525,  0.43583755,  0.68287005],\n",
       "        [-1.40795036, -0.45911402, -1.22317156,  1.01954096]]),\n",
       " array([[ 0.53304416,  0.5889969 ,  0.51488594,  1.27114933],\n",
       "        [-1.08970025, -1.36758898, -0.5986594 , -0.77907012],\n",
       "        [-0.66369648,  0.25683578,  0.33219091,  0.81421023]])]"
      ]
     },
     "execution_count": 42,
     "metadata": {},
     "output_type": "execute_result"
    }
   ],
   "source": [
    "arrays = [np.random.randn(3, 4) for _ in range(5)]\n",
    "arrays"
   ]
  },
  {
   "cell_type": "code",
   "execution_count": 43,
   "id": "4c258878",
   "metadata": {},
   "outputs": [
    {
     "data": {
      "text/plain": [
       "array([[[-1.74616941, -0.49917244,  0.23694957, -0.23119127],\n",
       "        [-0.93183141, -0.68668871,  0.28140663,  0.45750144],\n",
       "        [-0.13346125,  1.2539656 , -0.13034795,  0.05837532]],\n",
       "\n",
       "       [[-0.53606807, -1.04333681, -2.18635573, -0.64550025],\n",
       "        [-0.31897133, -0.52988893,  1.34994401,  2.63445306],\n",
       "        [-1.57548331,  0.11181588, -0.01735185,  0.56046698]],\n",
       "\n",
       "       [[ 1.11836473, -0.82127413, -0.20851233,  0.18955685],\n",
       "        [ 0.04072771,  0.61004222,  0.01857743,  0.34732512],\n",
       "        [-1.48162812,  0.63176177,  0.6583614 , -0.80785574]],\n",
       "\n",
       "       [[-1.05668637,  0.83383874, -1.09247005,  0.80808088],\n",
       "        [-2.19034601,  1.31164525,  0.43583755,  0.68287005],\n",
       "        [-1.40795036, -0.45911402, -1.22317156,  1.01954096]],\n",
       "\n",
       "       [[ 0.53304416,  0.5889969 ,  0.51488594,  1.27114933],\n",
       "        [-1.08970025, -1.36758898, -0.5986594 , -0.77907012],\n",
       "        [-0.66369648,  0.25683578,  0.33219091,  0.81421023]]])"
      ]
     },
     "execution_count": 43,
     "metadata": {},
     "output_type": "execute_result"
    }
   ],
   "source": [
    "np.stack(arrays, axis=0) #shape = (5, 3, 4)"
   ]
  },
  {
   "cell_type": "code",
   "execution_count": 44,
   "id": "ad41059a",
   "metadata": {},
   "outputs": [
    {
     "data": {
      "text/plain": [
       "array([[[-1.74616941, -0.53606807,  1.11836473, -1.05668637,\n",
       "          0.53304416],\n",
       "        [-0.49917244, -1.04333681, -0.82127413,  0.83383874,\n",
       "          0.5889969 ],\n",
       "        [ 0.23694957, -2.18635573, -0.20851233, -1.09247005,\n",
       "          0.51488594],\n",
       "        [-0.23119127, -0.64550025,  0.18955685,  0.80808088,\n",
       "          1.27114933]],\n",
       "\n",
       "       [[-0.93183141, -0.31897133,  0.04072771, -2.19034601,\n",
       "         -1.08970025],\n",
       "        [-0.68668871, -0.52988893,  0.61004222,  1.31164525,\n",
       "         -1.36758898],\n",
       "        [ 0.28140663,  1.34994401,  0.01857743,  0.43583755,\n",
       "         -0.5986594 ],\n",
       "        [ 0.45750144,  2.63445306,  0.34732512,  0.68287005,\n",
       "         -0.77907012]],\n",
       "\n",
       "       [[-0.13346125, -1.57548331, -1.48162812, -1.40795036,\n",
       "         -0.66369648],\n",
       "        [ 1.2539656 ,  0.11181588,  0.63176177, -0.45911402,\n",
       "          0.25683578],\n",
       "        [-0.13034795, -0.01735185,  0.6583614 , -1.22317156,\n",
       "          0.33219091],\n",
       "        [ 0.05837532,  0.56046698, -0.80785574,  1.01954096,\n",
       "          0.81421023]]])"
      ]
     },
     "execution_count": 44,
     "metadata": {},
     "output_type": "execute_result"
    }
   ],
   "source": [
    "np.stack(arrays, axis=2) # shape = (3 ,4 , 5)"
   ]
  },
  {
   "cell_type": "code",
   "execution_count": 45,
   "id": "82266814",
   "metadata": {},
   "outputs": [
    {
     "data": {
      "text/plain": [
       "array([[0, 1, 2, 3, 4],\n",
       "       [0, 1, 2, 3, 4],\n",
       "       [5, 6, 7, 8, 9]])"
      ]
     },
     "execution_count": 45,
     "metadata": {},
     "output_type": "execute_result"
    }
   ],
   "source": [
    "a = np.arange(5)\n",
    "np.vstack([a,x]) #append a to x as the first row"
   ]
  },
  {
   "cell_type": "code",
   "execution_count": 46,
   "id": "e226fb77",
   "metadata": {},
   "outputs": [
    {
     "data": {
      "text/plain": [
       "array([[0, 1, 2, 3, 4],\n",
       "       [5, 6, 7, 8, 9],\n",
       "       [0, 1, 2, 3, 4]])"
      ]
     },
     "execution_count": 46,
     "metadata": {},
     "output_type": "execute_result"
    }
   ],
   "source": [
    "np.vstack([x,a]) #append a to x as the last row"
   ]
  },
  {
   "cell_type": "code",
   "execution_count": 47,
   "id": "d9e9a611",
   "metadata": {},
   "outputs": [
    {
     "data": {
      "text/plain": [
       "array([[0, 1, 2, 3, 4],\n",
       "       [5, 6, 7, 8, 9],\n",
       "       [0, 1, 2, 3, 4],\n",
       "       [5, 6, 7, 8, 9]])"
      ]
     },
     "execution_count": 47,
     "metadata": {},
     "output_type": "execute_result"
    }
   ],
   "source": [
    "a = np.arange(10).reshape(2,5)\n",
    "np.r_[x,a] #similar with np.vstack(), but all the input array dimensions for the concatenation axis must match exactly"
   ]
  },
  {
   "cell_type": "code",
   "execution_count": 48,
   "id": "583bf036",
   "metadata": {},
   "outputs": [
    {
     "data": {
      "text/plain": [
       "array([[0, 0, 1, 2, 3, 4],\n",
       "       [1, 5, 6, 7, 8, 9]])"
      ]
     },
     "execution_count": 48,
     "metadata": {},
     "output_type": "execute_result"
    }
   ],
   "source": [
    "b = np.arange(2).reshape(2,1)\n",
    "np.hstack([b,x]) #append b to x as the first column"
   ]
  },
  {
   "cell_type": "code",
   "execution_count": 49,
   "id": "bf8b42ac",
   "metadata": {},
   "outputs": [
    {
     "data": {
      "text/plain": [
       "array([[0, 1, 2, 3, 4, 0],\n",
       "       [5, 6, 7, 8, 9, 1]])"
      ]
     },
     "execution_count": 49,
     "metadata": {},
     "output_type": "execute_result"
    }
   ],
   "source": [
    "np.hstack([x,b]) #append b to x as the last column"
   ]
  },
  {
   "cell_type": "code",
   "execution_count": 50,
   "id": "cbc0c2e9",
   "metadata": {},
   "outputs": [
    {
     "data": {
      "text/plain": [
       "array([[0, 1, 2, 3, 4, 0, 1, 2, 3, 4],\n",
       "       [5, 6, 7, 8, 9, 5, 6, 7, 8, 9]])"
      ]
     },
     "execution_count": 50,
     "metadata": {},
     "output_type": "execute_result"
    }
   ],
   "source": [
    "np.c_[x, a] # #similar with np.hstack(), but all the input array dimensions for the concatenation axis must match exactly"
   ]
  },
  {
   "cell_type": "code",
   "execution_count": 51,
   "id": "c49799c3",
   "metadata": {},
   "outputs": [
    {
     "data": {
      "text/plain": [
       "array([6, 7, 8, 9])"
      ]
     },
     "execution_count": 51,
     "metadata": {},
     "output_type": "execute_result"
    }
   ],
   "source": [
    "x[x > 5] # get elements that are bigger than 5"
   ]
  },
  {
   "cell_type": "code",
   "execution_count": 52,
   "id": "802fa188",
   "metadata": {},
   "outputs": [
    {
     "data": {
      "text/plain": [
       "array([[ 0,  0,  0,  0,  0],\n",
       "       [ 0, 10, 10, 10, 10]])"
      ]
     },
     "execution_count": 52,
     "metadata": {},
     "output_type": "execute_result"
    }
   ],
   "source": [
    "y = x.copy() # set the elements that are bigger than 5 to 10\n",
    "y[x > 5] = 10\n",
    "y[x <= 5] = 0\n",
    "y"
   ]
  },
  {
   "cell_type": "code",
   "execution_count": 53,
   "id": "e1152c91",
   "metadata": {},
   "outputs": [
    {
     "data": {
      "text/plain": [
       "9"
      ]
     },
     "execution_count": 53,
     "metadata": {},
     "output_type": "execute_result"
    }
   ],
   "source": [
    "np.argmax(x) #Returns the indices of the maximum values"
   ]
  },
  {
   "cell_type": "code",
   "execution_count": 54,
   "id": "81ec231a",
   "metadata": {},
   "outputs": [
    {
     "data": {
      "text/plain": [
       "array([1, 1, 1, 1, 1])"
      ]
     },
     "execution_count": 54,
     "metadata": {},
     "output_type": "execute_result"
    }
   ],
   "source": [
    "np.argmax(x, axis=0)#Returns the indices of the maximum values along an axis."
   ]
  },
  {
   "cell_type": "code",
   "execution_count": 55,
   "id": "00820125",
   "metadata": {},
   "outputs": [
    {
     "data": {
      "text/plain": [
       "array([4, 4])"
      ]
     },
     "execution_count": 55,
     "metadata": {},
     "output_type": "execute_result"
    }
   ],
   "source": [
    "np.argmax(x, axis=1)#Returns the indices of the maximum values along an axis."
   ]
  },
  {
   "cell_type": "code",
   "execution_count": 56,
   "id": "066c5497",
   "metadata": {},
   "outputs": [
    {
     "data": {
      "text/plain": [
       "0"
      ]
     },
     "execution_count": 56,
     "metadata": {},
     "output_type": "execute_result"
    }
   ],
   "source": [
    "np.argmin(x) #Returns the indices of the minimum values"
   ]
  },
  {
   "cell_type": "code",
   "execution_count": 57,
   "id": "ad980064",
   "metadata": {},
   "outputs": [
    {
     "data": {
      "text/plain": [
       "array([0, 0, 0, 0, 0])"
      ]
     },
     "execution_count": 57,
     "metadata": {},
     "output_type": "execute_result"
    }
   ],
   "source": [
    "np.argmin(x, axis=0) #Returns the indices of the minimum values along an axis."
   ]
  },
  {
   "cell_type": "code",
   "execution_count": 58,
   "id": "36c7e32c",
   "metadata": {},
   "outputs": [
    {
     "data": {
      "text/plain": [
       "array([0, 0])"
      ]
     },
     "execution_count": 58,
     "metadata": {},
     "output_type": "execute_result"
    }
   ],
   "source": [
    "np.argmin(x, axis=1)"
   ]
  },
  {
   "cell_type": "code",
   "execution_count": 59,
   "id": "92c75528",
   "metadata": {},
   "outputs": [
    {
     "data": {
      "text/plain": [
       "(array([[0, 1, 2, 3, 4],\n",
       "        [5, 6, 7, 8, 9]]),\n",
       " array([[1, 1],\n",
       "        [1, 2],\n",
       "        [1, 3],\n",
       "        [1, 4]]))"
      ]
     },
     "execution_count": 59,
     "metadata": {},
     "output_type": "execute_result"
    }
   ],
   "source": [
    "x, np.argwhere(x>5) #"
   ]
  },
  {
   "cell_type": "code",
   "execution_count": 60,
   "id": "bcf94196",
   "metadata": {},
   "outputs": [
    {
     "data": {
      "text/plain": [
       "((array([1, 1, 1, 1]), array([1, 2, 3, 4])),\n",
       " array([[1, 1],\n",
       "        [1, 2],\n",
       "        [1, 3],\n",
       "        [1, 4]]))"
      ]
     },
     "execution_count": 60,
     "metadata": {},
     "output_type": "execute_result"
    }
   ],
   "source": [
    "np.nonzero(x>5),np.transpose(np.nonzero(x>5))"
   ]
  },
  {
   "cell_type": "markdown",
   "id": "9a5f6094",
   "metadata": {},
   "source": [
    "**numpy.where**  \n",
    "numpy.where(condition, [x, y, ]/)  \n",
    "return an array with elements from x where condition is True, and elements from y elsewhere."
   ]
  },
  {
   "cell_type": "code",
   "execution_count": 61,
   "id": "fd3691d0",
   "metadata": {},
   "outputs": [
    {
     "name": "stdout",
     "output_type": "stream",
     "text": [
      "[[0]\n",
      " [1]\n",
      " [2]] [[0 1 2 3]]\n"
     ]
    },
    {
     "data": {
      "text/plain": [
       "array([[10,  0,  0,  0],\n",
       "       [10, 11,  1,  1],\n",
       "       [10, 11, 12,  2]])"
      ]
     },
     "execution_count": 61,
     "metadata": {},
     "output_type": "execute_result"
    }
   ],
   "source": [
    "x, y = np.ogrid[:3, :4]\n",
    "print(x, y)\n",
    "z = np.where(x < y, x, 10 + y)\n",
    "z"
   ]
  },
  {
   "cell_type": "code",
   "execution_count": 62,
   "id": "51978ca0",
   "metadata": {},
   "outputs": [
    {
     "data": {
      "text/plain": [
       "array([[10,  0,  0,  0],\n",
       "       [10, 10,  0,  0],\n",
       "       [10, 10, 10,  0]])"
      ]
     },
     "execution_count": 62,
     "metadata": {},
     "output_type": "execute_result"
    }
   ],
   "source": [
    "np.where(z < 10, 0, 10)"
   ]
  },
  {
   "cell_type": "markdown",
   "id": "1c2419d4",
   "metadata": {},
   "source": [
    "**numpy.sort(a, axis=- 1, kind=None, order=None)**\n",
    "\n",
    "Return a sorted copy of an array."
   ]
  },
  {
   "cell_type": "code",
   "execution_count": 63,
   "id": "92dead0e",
   "metadata": {},
   "outputs": [
    {
     "name": "stdout",
     "output_type": "stream",
     "text": [
      "x: [5 4 6 8 1 2 9]\n",
      "x: [1 2 4 5 6 8 9]\n"
     ]
    }
   ],
   "source": [
    "x = np.array([5, 4, 6, 8, 1, 2, 9])\n",
    "print('x:', x)\n",
    "x.sort()\n",
    "print('x:', x)"
   ]
  },
  {
   "cell_type": "code",
   "execution_count": 64,
   "id": "6d87a3e3",
   "metadata": {},
   "outputs": [
    {
     "name": "stdout",
     "output_type": "stream",
     "text": [
      "x:\n",
      " [[7 5 8]\n",
      " [9 6 4]\n",
      " [3 4 9]]\n",
      "x:\n",
      " [[3 4 4]\n",
      " [7 5 8]\n",
      " [9 6 9]]\n"
     ]
    }
   ],
   "source": [
    "x = np.array([[7, 5, 8], [9, 6, 4], [3, 4, 9]])\n",
    "print('x:\\n', x)\n",
    "x.sort(axis=0)\n",
    "print('x:\\n', x)"
   ]
  },
  {
   "cell_type": "markdown",
   "id": "54fd799a",
   "metadata": {},
   "source": [
    "**numpy.argsort(a, axis=- 1, kind=None, order=None)**\n",
    "\n",
    "Returns the indices that would sort an array."
   ]
  },
  {
   "cell_type": "code",
   "execution_count": 65,
   "id": "039a2804",
   "metadata": {},
   "outputs": [
    {
     "name": "stdout",
     "output_type": "stream",
     "text": [
      "arr:\n",
      " [5 4 6 8 1 2 9]\n",
      "x:\n",
      " [5 4 6 8 1 2 9]\n",
      "x_index:\n",
      " [4 5 1 0 2 3 6]\n"
     ]
    }
   ],
   "source": [
    "x = np.array([5, 4, 6, 8, 1, 2, 9])\n",
    "print('arr:\\n', x)\n",
    "x_index = np.argsort(x)\n",
    "print('x:\\n', x)\n",
    "print('x_index:\\n', x_index)"
   ]
  },
  {
   "cell_type": "code",
   "execution_count": 66,
   "id": "f4aee626",
   "metadata": {},
   "outputs": [
    {
     "name": "stdout",
     "output_type": "stream",
     "text": [
      "x:\n",
      " [[7 5 8]\n",
      " [9 6 4]\n",
      " [3 4 9]]\n",
      "x:\n",
      " [[7 5 8]\n",
      " [9 6 4]\n",
      " [3 4 9]]\n",
      "x_index:\n",
      " [[1 0 2]\n",
      " [2 1 0]\n",
      " [0 1 2]]\n"
     ]
    }
   ],
   "source": [
    "x = np.array([[7, 5, 8], [9, 6, 4], [3, 4, 9]])\n",
    "print('x:\\n', x)\n",
    "x_index = np.argsort(x, axis=-1)\n",
    "print('x:\\n', x)\n",
    "print('x_index:\\n', x_index)"
   ]
  },
  {
   "cell_type": "markdown",
   "id": "8b1234d6",
   "metadata": {},
   "source": [
    "### 2.3 mathematical operators"
   ]
  },
  {
   "cell_type": "code",
   "execution_count": 67,
   "id": "d5a1b365",
   "metadata": {},
   "outputs": [
    {
     "data": {
      "text/plain": [
       "array([[ 1,  2,  3,  4,  5],\n",
       "       [ 6,  7,  8,  9, 10]])"
      ]
     },
     "execution_count": 67,
     "metadata": {},
     "output_type": "execute_result"
    }
   ],
   "source": [
    "x = np.arange(10).reshape(2,5)\n",
    "x + 1"
   ]
  },
  {
   "cell_type": "code",
   "execution_count": 68,
   "id": "0c2e9478",
   "metadata": {},
   "outputs": [
    {
     "data": {
      "text/plain": [
       "array([[ 0,  2,  4,  6,  8],\n",
       "       [10, 12, 14, 16, 18]])"
      ]
     },
     "execution_count": 68,
     "metadata": {},
     "output_type": "execute_result"
    }
   ],
   "source": [
    "x + x"
   ]
  },
  {
   "cell_type": "code",
   "execution_count": 69,
   "id": "8ae19037",
   "metadata": {},
   "outputs": [
    {
     "data": {
      "text/plain": [
       "array([[ 0,  2,  4,  6,  8],\n",
       "       [10, 12, 14, 16, 18]])"
      ]
     },
     "execution_count": 69,
     "metadata": {},
     "output_type": "execute_result"
    }
   ],
   "source": [
    "x * 2"
   ]
  },
  {
   "cell_type": "code",
   "execution_count": 70,
   "id": "0c95f489",
   "metadata": {},
   "outputs": [
    {
     "data": {
      "text/plain": [
       "array([[ 0,  1,  4,  9, 16],\n",
       "       [25, 36, 49, 64, 81]])"
      ]
     },
     "execution_count": 70,
     "metadata": {},
     "output_type": "execute_result"
    }
   ],
   "source": [
    "x ** 2"
   ]
  },
  {
   "cell_type": "code",
   "execution_count": 71,
   "id": "1b0e5846",
   "metadata": {},
   "outputs": [
    {
     "data": {
      "text/plain": [
       "array([[0.        , 1.        , 1.41421356, 1.73205081, 2.        ],\n",
       "       [2.23606798, 2.44948974, 2.64575131, 2.82842712, 3.        ]])"
      ]
     },
     "execution_count": 71,
     "metadata": {},
     "output_type": "execute_result"
    }
   ],
   "source": [
    "x ** (1/2)"
   ]
  },
  {
   "cell_type": "code",
   "execution_count": 72,
   "id": "91d6d110",
   "metadata": {},
   "outputs": [
    {
     "data": {
      "text/plain": [
       "array([[0, 5],\n",
       "       [1, 6],\n",
       "       [2, 7],\n",
       "       [3, 8],\n",
       "       [4, 9]])"
      ]
     },
     "execution_count": 72,
     "metadata": {},
     "output_type": "execute_result"
    }
   ],
   "source": [
    "x.T"
   ]
  },
  {
   "cell_type": "code",
   "execution_count": 73,
   "id": "91eb2b46",
   "metadata": {},
   "outputs": [
    {
     "data": {
      "text/plain": [
       "array([[0, 5],\n",
       "       [1, 6],\n",
       "       [2, 7],\n",
       "       [3, 8],\n",
       "       [4, 9]])"
      ]
     },
     "execution_count": 73,
     "metadata": {},
     "output_type": "execute_result"
    }
   ],
   "source": [
    "x.transpose() # same with x.T"
   ]
  },
  {
   "cell_type": "code",
   "execution_count": 74,
   "id": "7c438890",
   "metadata": {},
   "outputs": [
    {
     "data": {
      "text/plain": [
       "9"
      ]
     },
     "execution_count": 74,
     "metadata": {},
     "output_type": "execute_result"
    }
   ],
   "source": [
    "np.max(x) # "
   ]
  },
  {
   "cell_type": "code",
   "execution_count": 75,
   "id": "9c1900b5",
   "metadata": {},
   "outputs": [
    {
     "data": {
      "text/plain": [
       "array([5, 6, 7, 8, 9])"
      ]
     },
     "execution_count": 75,
     "metadata": {},
     "output_type": "execute_result"
    }
   ],
   "source": [
    "np.max(x,axis=0) # the maximum value in each column"
   ]
  },
  {
   "cell_type": "code",
   "execution_count": 76,
   "id": "4f299ca4",
   "metadata": {},
   "outputs": [
    {
     "data": {
      "text/plain": [
       "array([4, 9])"
      ]
     },
     "execution_count": 76,
     "metadata": {},
     "output_type": "execute_result"
    }
   ],
   "source": [
    "np.max(x,axis=1) # the maximum value in each row"
   ]
  },
  {
   "cell_type": "code",
   "execution_count": 77,
   "id": "6cf2580b",
   "metadata": {},
   "outputs": [
    {
     "data": {
      "text/plain": [
       "45"
      ]
     },
     "execution_count": 77,
     "metadata": {},
     "output_type": "execute_result"
    }
   ],
   "source": [
    "np.sum(x)"
   ]
  },
  {
   "cell_type": "code",
   "execution_count": 78,
   "id": "a39d102a",
   "metadata": {},
   "outputs": [
    {
     "data": {
      "text/plain": [
       "array([ 5,  7,  9, 11, 13])"
      ]
     },
     "execution_count": 78,
     "metadata": {},
     "output_type": "execute_result"
    }
   ],
   "source": [
    "np.sum(x,axis=0) # the sum of each column"
   ]
  },
  {
   "cell_type": "code",
   "execution_count": 79,
   "id": "39fa78c5",
   "metadata": {},
   "outputs": [
    {
     "data": {
      "text/plain": [
       "array([10, 35])"
      ]
     },
     "execution_count": 79,
     "metadata": {},
     "output_type": "execute_result"
    }
   ],
   "source": [
    "np.sum(x,axis=1) # the sum of each row"
   ]
  },
  {
   "cell_type": "code",
   "execution_count": 80,
   "id": "e3c017fe",
   "metadata": {},
   "outputs": [
    {
     "data": {
      "text/plain": [
       "4.5"
      ]
     },
     "execution_count": 80,
     "metadata": {},
     "output_type": "execute_result"
    }
   ],
   "source": [
    "np.mean(x)"
   ]
  },
  {
   "cell_type": "code",
   "execution_count": 81,
   "id": "95a76dc6",
   "metadata": {},
   "outputs": [
    {
     "data": {
      "text/plain": [
       "array([2.5, 3.5, 4.5, 5.5, 6.5])"
      ]
     },
     "execution_count": 81,
     "metadata": {},
     "output_type": "execute_result"
    }
   ],
   "source": [
    "np.mean(x, axis=0)# the mean of each column"
   ]
  },
  {
   "cell_type": "code",
   "execution_count": 82,
   "id": "941ca0fa",
   "metadata": {},
   "outputs": [
    {
     "data": {
      "text/plain": [
       "array([2., 7.])"
      ]
     },
     "execution_count": 82,
     "metadata": {},
     "output_type": "execute_result"
    }
   ],
   "source": [
    "np.mean(x, axis=1)# the mean of each row"
   ]
  },
  {
   "cell_type": "code",
   "execution_count": 83,
   "id": "5a77642b",
   "metadata": {},
   "outputs": [
    {
     "data": {
      "text/plain": [
       "8.25"
      ]
     },
     "execution_count": 83,
     "metadata": {},
     "output_type": "execute_result"
    }
   ],
   "source": [
    "np.var(x) # variance value"
   ]
  },
  {
   "cell_type": "code",
   "execution_count": 84,
   "id": "c8fa2985",
   "metadata": {},
   "outputs": [
    {
     "data": {
      "text/plain": [
       "2.8722813232690143"
      ]
     },
     "execution_count": 84,
     "metadata": {},
     "output_type": "execute_result"
    }
   ],
   "source": [
    "np.std(x)# standard deviation value"
   ]
  },
  {
   "cell_type": "code",
   "execution_count": 85,
   "id": "9b25af55",
   "metadata": {},
   "outputs": [
    {
     "data": {
      "text/plain": [
       "(-13+0j)"
      ]
     },
     "execution_count": 85,
     "metadata": {},
     "output_type": "execute_result"
    }
   ],
   "source": [
    "x1 = np.array([2j, 3j])\n",
    "x2 = np.array([2j, 3j])\n",
    "np.matmul(x1,x2) # Matrix product of two arrays."
   ]
  },
  {
   "cell_type": "code",
   "execution_count": 86,
   "id": "e94fc20f",
   "metadata": {},
   "outputs": [
    {
     "data": {
      "text/plain": [
       "(-13+0j)"
      ]
     },
     "execution_count": 86,
     "metadata": {},
     "output_type": "execute_result"
    }
   ],
   "source": [
    "x1 @ x2 #The @ operator can be used as a shorthand for np.matmul on ndarrays."
   ]
  },
  {
   "cell_type": "code",
   "execution_count": 87,
   "id": "7cd6aad9",
   "metadata": {},
   "outputs": [
    {
     "data": {
      "text/plain": [
       "array([-4.+0.j, -9.+0.j])"
      ]
     },
     "execution_count": 87,
     "metadata": {},
     "output_type": "execute_result"
    }
   ],
   "source": [
    "np.multiply(x1,x2) # Multiply arguments element-wise."
   ]
  },
  {
   "cell_type": "code",
   "execution_count": 88,
   "id": "64379ace",
   "metadata": {},
   "outputs": [
    {
     "data": {
      "text/plain": [
       "array([-4.+0.j, -9.+0.j])"
      ]
     },
     "execution_count": 88,
     "metadata": {},
     "output_type": "execute_result"
    }
   ],
   "source": [
    "x1 * x2 #The * operator can be used as a shorthand for np.multiply on ndarrays."
   ]
  },
  {
   "cell_type": "markdown",
   "id": "0a903f4e",
   "metadata": {},
   "source": [
    "## 3. Reading array from file and writing to file"
   ]
  },
  {
   "cell_type": "code",
   "execution_count": 89,
   "id": "8b64dac4",
   "metadata": {},
   "outputs": [],
   "source": [
    "np.savetxt('1.txt', x, fmt='%d', delimiter=',') # save an array to 1.txt with format %d"
   ]
  },
  {
   "cell_type": "code",
   "execution_count": 90,
   "id": "30dc396b",
   "metadata": {},
   "outputs": [
    {
     "data": {
      "text/plain": [
       "array([[0., 1., 2., 3., 4.],\n",
       "       [5., 6., 7., 8., 9.]])"
      ]
     },
     "execution_count": 90,
     "metadata": {},
     "output_type": "execute_result"
    }
   ],
   "source": [
    "np.genfromtxt('1.txt',delimiter=',')    ## get an array from 1.txt"
   ]
  }
 ],
 "metadata": {
  "kernelspec": {
   "display_name": "Python 3",
   "language": "python",
   "name": "python3"
  },
  "language_info": {
   "codemirror_mode": {
    "name": "ipython",
    "version": 3
   },
   "file_extension": ".py",
   "mimetype": "text/x-python",
   "name": "python",
   "nbconvert_exporter": "python",
   "pygments_lexer": "ipython3",
   "version": "3.8.8"
  }
 },
 "nbformat": 4,
 "nbformat_minor": 5
}